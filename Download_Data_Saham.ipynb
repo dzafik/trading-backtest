{
  "nbformat": 4,
  "nbformat_minor": 0,
  "metadata": {
    "colab": {
      "provenance": [],
      "authorship_tag": "ABX9TyN6KJG142PixKx3tpwebqGO",
      "include_colab_link": true
    },
    "kernelspec": {
      "name": "python3",
      "display_name": "Python 3"
    },
    "language_info": {
      "name": "python"
    }
  },
  "cells": [
    {
      "cell_type": "markdown",
      "metadata": {
        "id": "view-in-github",
        "colab_type": "text"
      },
      "source": [
        "<a href=\"https://colab.research.google.com/github/dzafik/trading-backtest/blob/main/Download_Data_Saham.ipynb\" target=\"_parent\"><img src=\"https://colab.research.google.com/assets/colab-badge.svg\" alt=\"Open In Colab\"/></a>"
      ]
    },
    {
      "cell_type": "code",
      "source": [
        "from google.colab import files\n",
        "# Upload file CSV\n",
        "uploaded = files.upload()\n"
      ],
      "metadata": {
        "colab": {
          "base_uri": "https://localhost:8080/",
          "height": 93
        },
        "id": "daUjIpV2M8k_",
        "outputId": "7d8d1340-f6a7-4ed6-bb55-39cdc4379207"
      },
      "execution_count": null,
      "outputs": [
        {
          "output_type": "display_data",
          "data": {
            "text/plain": [
              "<IPython.core.display.HTML object>"
            ],
            "text/html": [
              "\n",
              "     <input type=\"file\" id=\"files-ee78e340-91c0-44d8-a3cd-92573b4f1d0a\" name=\"files[]\" multiple disabled\n",
              "        style=\"border:none\" />\n",
              "     <output id=\"result-ee78e340-91c0-44d8-a3cd-92573b4f1d0a\">\n",
              "      Upload widget is only available when the cell has been executed in the\n",
              "      current browser session. Please rerun this cell to enable.\n",
              "      </output>\n",
              "      <script>// Copyright 2017 Google LLC\n",
              "//\n",
              "// Licensed under the Apache License, Version 2.0 (the \"License\");\n",
              "// you may not use this file except in compliance with the License.\n",
              "// You may obtain a copy of the License at\n",
              "//\n",
              "//      http://www.apache.org/licenses/LICENSE-2.0\n",
              "//\n",
              "// Unless required by applicable law or agreed to in writing, software\n",
              "// distributed under the License is distributed on an \"AS IS\" BASIS,\n",
              "// WITHOUT WARRANTIES OR CONDITIONS OF ANY KIND, either express or implied.\n",
              "// See the License for the specific language governing permissions and\n",
              "// limitations under the License.\n",
              "\n",
              "/**\n",
              " * @fileoverview Helpers for google.colab Python module.\n",
              " */\n",
              "(function(scope) {\n",
              "function span(text, styleAttributes = {}) {\n",
              "  const element = document.createElement('span');\n",
              "  element.textContent = text;\n",
              "  for (const key of Object.keys(styleAttributes)) {\n",
              "    element.style[key] = styleAttributes[key];\n",
              "  }\n",
              "  return element;\n",
              "}\n",
              "\n",
              "// Max number of bytes which will be uploaded at a time.\n",
              "const MAX_PAYLOAD_SIZE = 100 * 1024;\n",
              "\n",
              "function _uploadFiles(inputId, outputId) {\n",
              "  const steps = uploadFilesStep(inputId, outputId);\n",
              "  const outputElement = document.getElementById(outputId);\n",
              "  // Cache steps on the outputElement to make it available for the next call\n",
              "  // to uploadFilesContinue from Python.\n",
              "  outputElement.steps = steps;\n",
              "\n",
              "  return _uploadFilesContinue(outputId);\n",
              "}\n",
              "\n",
              "// This is roughly an async generator (not supported in the browser yet),\n",
              "// where there are multiple asynchronous steps and the Python side is going\n",
              "// to poll for completion of each step.\n",
              "// This uses a Promise to block the python side on completion of each step,\n",
              "// then passes the result of the previous step as the input to the next step.\n",
              "function _uploadFilesContinue(outputId) {\n",
              "  const outputElement = document.getElementById(outputId);\n",
              "  const steps = outputElement.steps;\n",
              "\n",
              "  const next = steps.next(outputElement.lastPromiseValue);\n",
              "  return Promise.resolve(next.value.promise).then((value) => {\n",
              "    // Cache the last promise value to make it available to the next\n",
              "    // step of the generator.\n",
              "    outputElement.lastPromiseValue = value;\n",
              "    return next.value.response;\n",
              "  });\n",
              "}\n",
              "\n",
              "/**\n",
              " * Generator function which is called between each async step of the upload\n",
              " * process.\n",
              " * @param {string} inputId Element ID of the input file picker element.\n",
              " * @param {string} outputId Element ID of the output display.\n",
              " * @return {!Iterable<!Object>} Iterable of next steps.\n",
              " */\n",
              "function* uploadFilesStep(inputId, outputId) {\n",
              "  const inputElement = document.getElementById(inputId);\n",
              "  inputElement.disabled = false;\n",
              "\n",
              "  const outputElement = document.getElementById(outputId);\n",
              "  outputElement.innerHTML = '';\n",
              "\n",
              "  const pickedPromise = new Promise((resolve) => {\n",
              "    inputElement.addEventListener('change', (e) => {\n",
              "      resolve(e.target.files);\n",
              "    });\n",
              "  });\n",
              "\n",
              "  const cancel = document.createElement('button');\n",
              "  inputElement.parentElement.appendChild(cancel);\n",
              "  cancel.textContent = 'Cancel upload';\n",
              "  const cancelPromise = new Promise((resolve) => {\n",
              "    cancel.onclick = () => {\n",
              "      resolve(null);\n",
              "    };\n",
              "  });\n",
              "\n",
              "  // Wait for the user to pick the files.\n",
              "  const files = yield {\n",
              "    promise: Promise.race([pickedPromise, cancelPromise]),\n",
              "    response: {\n",
              "      action: 'starting',\n",
              "    }\n",
              "  };\n",
              "\n",
              "  cancel.remove();\n",
              "\n",
              "  // Disable the input element since further picks are not allowed.\n",
              "  inputElement.disabled = true;\n",
              "\n",
              "  if (!files) {\n",
              "    return {\n",
              "      response: {\n",
              "        action: 'complete',\n",
              "      }\n",
              "    };\n",
              "  }\n",
              "\n",
              "  for (const file of files) {\n",
              "    const li = document.createElement('li');\n",
              "    li.append(span(file.name, {fontWeight: 'bold'}));\n",
              "    li.append(span(\n",
              "        `(${file.type || 'n/a'}) - ${file.size} bytes, ` +\n",
              "        `last modified: ${\n",
              "            file.lastModifiedDate ? file.lastModifiedDate.toLocaleDateString() :\n",
              "                                    'n/a'} - `));\n",
              "    const percent = span('0% done');\n",
              "    li.appendChild(percent);\n",
              "\n",
              "    outputElement.appendChild(li);\n",
              "\n",
              "    const fileDataPromise = new Promise((resolve) => {\n",
              "      const reader = new FileReader();\n",
              "      reader.onload = (e) => {\n",
              "        resolve(e.target.result);\n",
              "      };\n",
              "      reader.readAsArrayBuffer(file);\n",
              "    });\n",
              "    // Wait for the data to be ready.\n",
              "    let fileData = yield {\n",
              "      promise: fileDataPromise,\n",
              "      response: {\n",
              "        action: 'continue',\n",
              "      }\n",
              "    };\n",
              "\n",
              "    // Use a chunked sending to avoid message size limits. See b/62115660.\n",
              "    let position = 0;\n",
              "    do {\n",
              "      const length = Math.min(fileData.byteLength - position, MAX_PAYLOAD_SIZE);\n",
              "      const chunk = new Uint8Array(fileData, position, length);\n",
              "      position += length;\n",
              "\n",
              "      const base64 = btoa(String.fromCharCode.apply(null, chunk));\n",
              "      yield {\n",
              "        response: {\n",
              "          action: 'append',\n",
              "          file: file.name,\n",
              "          data: base64,\n",
              "        },\n",
              "      };\n",
              "\n",
              "      let percentDone = fileData.byteLength === 0 ?\n",
              "          100 :\n",
              "          Math.round((position / fileData.byteLength) * 100);\n",
              "      percent.textContent = `${percentDone}% done`;\n",
              "\n",
              "    } while (position < fileData.byteLength);\n",
              "  }\n",
              "\n",
              "  // All done.\n",
              "  yield {\n",
              "    response: {\n",
              "      action: 'complete',\n",
              "    }\n",
              "  };\n",
              "}\n",
              "\n",
              "scope.google = scope.google || {};\n",
              "scope.google.colab = scope.google.colab || {};\n",
              "scope.google.colab._files = {\n",
              "  _uploadFiles,\n",
              "  _uploadFilesContinue,\n",
              "};\n",
              "})(self);\n",
              "</script> "
            ]
          },
          "metadata": {}
        },
        {
          "output_type": "stream",
          "name": "stdout",
          "text": [
            "Saving issi.csv to issi.csv\n"
          ]
        }
      ]
    },
    {
      "cell_type": "code",
      "source": [
        "\n",
        "# Membaca file CSV (gunakan nama file yang diupload)\n",
        "import pandas as pd\n",
        "df = pd.read_csv(\"issi.csv\")\n",
        "\n",
        "# Menambahkan akhiran \".JK\" ke setiap nama ticker\n",
        "df['Ticker'] = df['Ticker'] + \".JK\"\n",
        "\n",
        "# Menampilkan hasil untuk memastikan\n",
        "print(df.head(10))"
      ],
      "metadata": {
        "colab": {
          "base_uri": "https://localhost:8080/"
        },
        "id": "3syZWODWNEev",
        "outputId": "15e0d5b3-52ff-495f-f0f7-3370bf9c484e"
      },
      "execution_count": null,
      "outputs": [
        {
          "output_type": "stream",
          "name": "stdout",
          "text": [
            "    Ticker\n",
            "0  GOTO.JK\n",
            "1  TLKM.JK\n",
            "2  RAJA.JK\n",
            "3  BRMS.JK\n",
            "4  AMMN.JK\n",
            "5  ADRO.JK\n",
            "6  DSSA.JK\n",
            "7  CUAN.JK\n",
            "8  PTRO.JK\n",
            "9  ANTM.JK\n"
          ]
        }
      ]
    },
    {
      "cell_type": "code",
      "source": [
        "# Coba download dengan input manual\n",
        "import yfinance as yf\n",
        "tickers = [\"SMRA.JK\", \"TLKM.JK\", \"ASII.JK\"]  # Daftar ticker\n",
        "for ticker in tickers:\n",
        "    data = yf.download(tickers=ticker, interval=\"1m\", period=\"max\")\n",
        "    data.to_csv(f\"{ticker}_minute_data.csv\")\n",
        "    files.download(f\"{ticker}_minute_data.csv\")\n",
        "\n",
        "    print(f\"Data untuk {ticker} berhasil disimpan!\")\n",
        "\n"
      ],
      "metadata": {
        "colab": {
          "base_uri": "https://localhost:8080/",
          "height": 121
        },
        "id": "IDSOtHOP3rRC",
        "outputId": "4913dcf7-73c5-474f-a061-e562263ed65d"
      },
      "execution_count": null,
      "outputs": [
        {
          "output_type": "stream",
          "name": "stderr",
          "text": [
            "\r[*********************100%***********************]  1 of 1 completed\n"
          ]
        },
        {
          "output_type": "display_data",
          "data": {
            "text/plain": [
              "<IPython.core.display.Javascript object>"
            ],
            "application/javascript": [
              "\n",
              "    async function download(id, filename, size) {\n",
              "      if (!google.colab.kernel.accessAllowed) {\n",
              "        return;\n",
              "      }\n",
              "      const div = document.createElement('div');\n",
              "      const label = document.createElement('label');\n",
              "      label.textContent = `Downloading \"${filename}\": `;\n",
              "      div.appendChild(label);\n",
              "      const progress = document.createElement('progress');\n",
              "      progress.max = size;\n",
              "      div.appendChild(progress);\n",
              "      document.body.appendChild(div);\n",
              "\n",
              "      const buffers = [];\n",
              "      let downloaded = 0;\n",
              "\n",
              "      const channel = await google.colab.kernel.comms.open(id);\n",
              "      // Send a message to notify the kernel that we're ready.\n",
              "      channel.send({})\n",
              "\n",
              "      for await (const message of channel.messages) {\n",
              "        // Send a message to notify the kernel that we're ready.\n",
              "        channel.send({})\n",
              "        if (message.buffers) {\n",
              "          for (const buffer of message.buffers) {\n",
              "            buffers.push(buffer);\n",
              "            downloaded += buffer.byteLength;\n",
              "            progress.value = downloaded;\n",
              "          }\n",
              "        }\n",
              "      }\n",
              "      const blob = new Blob(buffers, {type: 'application/binary'});\n",
              "      const a = document.createElement('a');\n",
              "      a.href = window.URL.createObjectURL(blob);\n",
              "      a.download = filename;\n",
              "      div.appendChild(a);\n",
              "      a.click();\n",
              "      div.remove();\n",
              "    }\n",
              "  "
            ]
          },
          "metadata": {}
        },
        {
          "output_type": "display_data",
          "data": {
            "text/plain": [
              "<IPython.core.display.Javascript object>"
            ],
            "application/javascript": [
              "download(\"download_3b206a54-1bc3-4020-b182-6365376d3ec6\", \"BBCA.JK_minute_data.csv\", 62729)"
            ]
          },
          "metadata": {}
        },
        {
          "output_type": "stream",
          "name": "stderr",
          "text": [
            "\r[*********************100%***********************]  1 of 1 completed"
          ]
        },
        {
          "output_type": "stream",
          "name": "stdout",
          "text": [
            "Data untuk BBCA.JK berhasil disimpan!\n"
          ]
        },
        {
          "output_type": "stream",
          "name": "stderr",
          "text": [
            "\n"
          ]
        },
        {
          "output_type": "display_data",
          "data": {
            "text/plain": [
              "<IPython.core.display.Javascript object>"
            ],
            "application/javascript": [
              "\n",
              "    async function download(id, filename, size) {\n",
              "      if (!google.colab.kernel.accessAllowed) {\n",
              "        return;\n",
              "      }\n",
              "      const div = document.createElement('div');\n",
              "      const label = document.createElement('label');\n",
              "      label.textContent = `Downloading \"${filename}\": `;\n",
              "      div.appendChild(label);\n",
              "      const progress = document.createElement('progress');\n",
              "      progress.max = size;\n",
              "      div.appendChild(progress);\n",
              "      document.body.appendChild(div);\n",
              "\n",
              "      const buffers = [];\n",
              "      let downloaded = 0;\n",
              "\n",
              "      const channel = await google.colab.kernel.comms.open(id);\n",
              "      // Send a message to notify the kernel that we're ready.\n",
              "      channel.send({})\n",
              "\n",
              "      for await (const message of channel.messages) {\n",
              "        // Send a message to notify the kernel that we're ready.\n",
              "        channel.send({})\n",
              "        if (message.buffers) {\n",
              "          for (const buffer of message.buffers) {\n",
              "            buffers.push(buffer);\n",
              "            downloaded += buffer.byteLength;\n",
              "            progress.value = downloaded;\n",
              "          }\n",
              "        }\n",
              "      }\n",
              "      const blob = new Blob(buffers, {type: 'application/binary'});\n",
              "      const a = document.createElement('a');\n",
              "      a.href = window.URL.createObjectURL(blob);\n",
              "      a.download = filename;\n",
              "      div.appendChild(a);\n",
              "      a.click();\n",
              "      div.remove();\n",
              "    }\n",
              "  "
            ]
          },
          "metadata": {}
        },
        {
          "output_type": "display_data",
          "data": {
            "text/plain": [
              "<IPython.core.display.Javascript object>"
            ],
            "application/javascript": [
              "download(\"download_4bf0ddd2-eac9-40dc-af1e-e618f57bf3de\", \"TLKM.JK_minute_data.csv\", 63343)"
            ]
          },
          "metadata": {}
        },
        {
          "output_type": "stream",
          "name": "stdout",
          "text": [
            "Data untuk TLKM.JK berhasil disimpan!\n"
          ]
        },
        {
          "output_type": "stream",
          "name": "stderr",
          "text": [
            "\r[*********************100%***********************]  1 of 1 completed\n"
          ]
        },
        {
          "output_type": "display_data",
          "data": {
            "text/plain": [
              "<IPython.core.display.Javascript object>"
            ],
            "application/javascript": [
              "\n",
              "    async function download(id, filename, size) {\n",
              "      if (!google.colab.kernel.accessAllowed) {\n",
              "        return;\n",
              "      }\n",
              "      const div = document.createElement('div');\n",
              "      const label = document.createElement('label');\n",
              "      label.textContent = `Downloading \"${filename}\": `;\n",
              "      div.appendChild(label);\n",
              "      const progress = document.createElement('progress');\n",
              "      progress.max = size;\n",
              "      div.appendChild(progress);\n",
              "      document.body.appendChild(div);\n",
              "\n",
              "      const buffers = [];\n",
              "      let downloaded = 0;\n",
              "\n",
              "      const channel = await google.colab.kernel.comms.open(id);\n",
              "      // Send a message to notify the kernel that we're ready.\n",
              "      channel.send({})\n",
              "\n",
              "      for await (const message of channel.messages) {\n",
              "        // Send a message to notify the kernel that we're ready.\n",
              "        channel.send({})\n",
              "        if (message.buffers) {\n",
              "          for (const buffer of message.buffers) {\n",
              "            buffers.push(buffer);\n",
              "            downloaded += buffer.byteLength;\n",
              "            progress.value = downloaded;\n",
              "          }\n",
              "        }\n",
              "      }\n",
              "      const blob = new Blob(buffers, {type: 'application/binary'});\n",
              "      const a = document.createElement('a');\n",
              "      a.href = window.URL.createObjectURL(blob);\n",
              "      a.download = filename;\n",
              "      div.appendChild(a);\n",
              "      a.click();\n",
              "      div.remove();\n",
              "    }\n",
              "  "
            ]
          },
          "metadata": {}
        },
        {
          "output_type": "display_data",
          "data": {
            "text/plain": [
              "<IPython.core.display.Javascript object>"
            ],
            "application/javascript": [
              "download(\"download_e51363c2-481a-4027-97ea-ce60d7c317f2\", \"ASII.JK_minute_data.csv\", 62516)"
            ]
          },
          "metadata": {}
        },
        {
          "output_type": "stream",
          "name": "stdout",
          "text": [
            "Data untuk ASII.JK berhasil disimpan!\n"
          ]
        }
      ]
    },
    {
      "cell_type": "code",
      "source": [
        "from google.colab import drive\n",
        "drive.mount('/content/drive')"
      ],
      "metadata": {
        "colab": {
          "base_uri": "https://localhost:8080/"
        },
        "id": "ys3bTzpCU7iN",
        "outputId": "f863b513-046d-49d7-c1bb-d30db7453388"
      },
      "execution_count": null,
      "outputs": [
        {
          "output_type": "stream",
          "name": "stdout",
          "text": [
            "Mounted at /content/drive\n"
          ]
        }
      ]
    },
    {
      "cell_type": "code",
      "source": [
        "# Coba download 10 sampel dari data\n",
        "import yfinance as yf\n",
        "tickers = df['Ticker'] # Tambah .head(10) kalau mau coba sampel\n",
        "for ticker in tickers:\n",
        "#for ticker in df['Ticker']:\n",
        "    try:\n",
        "        print(f\"Mendownload data untuk {ticker}...\")\n",
        "        data = yf.download(tickers=ticker, interval=\"1d\", period=\"max\")\n",
        "        data.to_csv(f\"{ticker}_1d_data.csv\")\n",
        "        files.download(f\"{ticker}_1d_data.csv\", path='/content/drive/My Drive/Colab Notebooks/')\n",
        "        print(f\"Data csv untuk {ticker} berhasil disimpan!\")\n",
        "        # data.to_json(f\"{ticker}_1d_data.json\")\n",
        "        # files.download(f\"{ticker}_1d_data.json\")\n",
        "        # print(f\"Data json untuk {ticker} berhasil disimpan\")\n",
        "    except Exception as e:\n",
        "        print(f\"Terjadi kesalahan saat mendownload {ticker}: {e}\")\n",
        "\n",
        "\n"
      ],
      "metadata": {
        "colab": {
          "base_uri": "https://localhost:8080/",
          "height": 1000
        },
        "id": "0gBIZPvG49Jy",
        "outputId": "4082236d-6b89-41b4-db2b-ae3dc13d0c6b"
      },
      "execution_count": null,
      "outputs": [
        {
          "output_type": "stream",
          "name": "stdout",
          "text": [
            "Mendownload data untuk GOTO.JK...\n"
          ]
        },
        {
          "output_type": "stream",
          "name": "stderr",
          "text": [
            "\r[*********************100%***********************]  1 of 1 completed\n"
          ]
        },
        {
          "output_type": "stream",
          "name": "stdout",
          "text": [
            "Terjadi kesalahan saat mendownload GOTO.JK: download() got an unexpected keyword argument 'path'\n",
            "Mendownload data untuk TLKM.JK...\n"
          ]
        },
        {
          "output_type": "stream",
          "name": "stderr",
          "text": [
            "\r[*********************100%***********************]  1 of 1 completed\n"
          ]
        },
        {
          "output_type": "stream",
          "name": "stdout",
          "text": [
            "Terjadi kesalahan saat mendownload TLKM.JK: download() got an unexpected keyword argument 'path'\n",
            "Mendownload data untuk RAJA.JK...\n"
          ]
        },
        {
          "output_type": "stream",
          "name": "stderr",
          "text": [
            "[*********************100%***********************]  1 of 1 completed\n",
            "[*********************100%***********************]  1 of 1 completed"
          ]
        },
        {
          "output_type": "stream",
          "name": "stdout",
          "text": [
            "Terjadi kesalahan saat mendownload RAJA.JK: download() got an unexpected keyword argument 'path'\n",
            "Mendownload data untuk BRMS.JK...\n"
          ]
        },
        {
          "output_type": "stream",
          "name": "stderr",
          "text": [
            "\n",
            "\r[*********************100%***********************]  1 of 1 completed\n"
          ]
        },
        {
          "output_type": "stream",
          "name": "stdout",
          "text": [
            "Terjadi kesalahan saat mendownload BRMS.JK: download() got an unexpected keyword argument 'path'\n",
            "Mendownload data untuk AMMN.JK...\n",
            "Terjadi kesalahan saat mendownload AMMN.JK: download() got an unexpected keyword argument 'path'\n",
            "Mendownload data untuk ADRO.JK...\n"
          ]
        },
        {
          "output_type": "stream",
          "name": "stderr",
          "text": [
            "[*********************100%***********************]  1 of 1 completed\n",
            "[*********************100%***********************]  1 of 1 completed"
          ]
        },
        {
          "output_type": "stream",
          "name": "stdout",
          "text": [
            "Terjadi kesalahan saat mendownload ADRO.JK: download() got an unexpected keyword argument 'path'\n",
            "Mendownload data untuk DSSA.JK...\n"
          ]
        },
        {
          "output_type": "stream",
          "name": "stderr",
          "text": [
            "\n",
            "\r[*********************100%***********************]  1 of 1 completed\n"
          ]
        },
        {
          "output_type": "stream",
          "name": "stdout",
          "text": [
            "Terjadi kesalahan saat mendownload DSSA.JK: download() got an unexpected keyword argument 'path'\n",
            "Mendownload data untuk CUAN.JK...\n",
            "Terjadi kesalahan saat mendownload CUAN.JK: download() got an unexpected keyword argument 'path'\n",
            "Mendownload data untuk PTRO.JK...\n"
          ]
        },
        {
          "output_type": "stream",
          "name": "stderr",
          "text": [
            "\r[*********************100%***********************]  1 of 1 completed\n"
          ]
        },
        {
          "output_type": "stream",
          "name": "stdout",
          "text": [
            "Terjadi kesalahan saat mendownload PTRO.JK: download() got an unexpected keyword argument 'path'\n",
            "Mendownload data untuk ANTM.JK...\n"
          ]
        },
        {
          "output_type": "stream",
          "name": "stderr",
          "text": [
            "\r[*********************100%***********************]  1 of 1 completed\n"
          ]
        },
        {
          "output_type": "stream",
          "name": "stdout",
          "text": [
            "Terjadi kesalahan saat mendownload ANTM.JK: download() got an unexpected keyword argument 'path'\n",
            "Mendownload data untuk ASII.JK...\n"
          ]
        },
        {
          "output_type": "stream",
          "name": "stderr",
          "text": [
            "\r[*********************100%***********************]  1 of 1 completed\n"
          ]
        },
        {
          "output_type": "stream",
          "name": "stdout",
          "text": [
            "Terjadi kesalahan saat mendownload ASII.JK: download() got an unexpected keyword argument 'path'\n",
            "Mendownload data untuk SSIA.JK...\n"
          ]
        },
        {
          "output_type": "stream",
          "name": "stderr",
          "text": [
            "\r[*********************100%***********************]  1 of 1 completed\n"
          ]
        },
        {
          "output_type": "stream",
          "name": "stdout",
          "text": [
            "Terjadi kesalahan saat mendownload SSIA.JK: download() got an unexpected keyword argument 'path'\n",
            "Mendownload data untuk ICBP.JK...\n"
          ]
        },
        {
          "output_type": "stream",
          "name": "stderr",
          "text": [
            "[*********************100%***********************]  1 of 1 completed\n",
            "[*********************100%***********************]  1 of 1 completed"
          ]
        },
        {
          "output_type": "stream",
          "name": "stdout",
          "text": [
            "Terjadi kesalahan saat mendownload ICBP.JK: download() got an unexpected keyword argument 'path'\n",
            "Mendownload data untuk HEAL.JK...\n"
          ]
        },
        {
          "output_type": "stream",
          "name": "stderr",
          "text": [
            "\n",
            "\r[*********************100%***********************]  1 of 1 completed\n"
          ]
        },
        {
          "output_type": "stream",
          "name": "stdout",
          "text": [
            "Terjadi kesalahan saat mendownload HEAL.JK: download() got an unexpected keyword argument 'path'\n",
            "Mendownload data untuk PANI.JK...\n",
            "Terjadi kesalahan saat mendownload PANI.JK: download() got an unexpected keyword argument 'path'\n",
            "Mendownload data untuk BRPT.JK...\n"
          ]
        },
        {
          "output_type": "stream",
          "name": "stderr",
          "text": [
            "\r[*********************100%***********************]  1 of 1 completed\n"
          ]
        },
        {
          "output_type": "stream",
          "name": "stdout",
          "text": [
            "Terjadi kesalahan saat mendownload BRPT.JK: download() got an unexpected keyword argument 'path'\n",
            "Mendownload data untuk KLBF.JK...\n"
          ]
        },
        {
          "output_type": "stream",
          "name": "stderr",
          "text": [
            "\r[*********************100%***********************]  1 of 1 completed\n"
          ]
        },
        {
          "output_type": "stream",
          "name": "stdout",
          "text": [
            "Terjadi kesalahan saat mendownload KLBF.JK: download() got an unexpected keyword argument 'path'\n",
            "Mendownload data untuk BUMI.JK...\n"
          ]
        },
        {
          "output_type": "stream",
          "name": "stderr",
          "text": [
            "\r[*********************100%***********************]  1 of 1 completed\n"
          ]
        },
        {
          "output_type": "stream",
          "name": "stdout",
          "text": [
            "Terjadi kesalahan saat mendownload BUMI.JK: download() got an unexpected keyword argument 'path'\n",
            "Mendownload data untuk SCMA.JK...\n"
          ]
        },
        {
          "output_type": "stream",
          "name": "stderr",
          "text": [
            "\r[*********************100%***********************]  1 of 1 completed\n"
          ]
        },
        {
          "output_type": "stream",
          "name": "stdout",
          "text": [
            "Terjadi kesalahan saat mendownload SCMA.JK: download() got an unexpected keyword argument 'path'\n",
            "Mendownload data untuk UNTR.JK...\n"
          ]
        },
        {
          "output_type": "stream",
          "name": "stderr",
          "text": [
            "[*********************100%***********************]  1 of 1 completed\n",
            "[*********************100%***********************]  1 of 1 completed"
          ]
        },
        {
          "output_type": "stream",
          "name": "stdout",
          "text": [
            "Terjadi kesalahan saat mendownload UNTR.JK: download() got an unexpected keyword argument 'path'\n",
            "Mendownload data untuk BRIS.JK...\n"
          ]
        },
        {
          "output_type": "stream",
          "name": "stderr",
          "text": [
            "\n"
          ]
        },
        {
          "output_type": "stream",
          "name": "stdout",
          "text": [
            "Terjadi kesalahan saat mendownload BRIS.JK: download() got an unexpected keyword argument 'path'\n",
            "Mendownload data untuk MIKA.JK...\n"
          ]
        },
        {
          "output_type": "stream",
          "name": "stderr",
          "text": [
            "\r[*********************100%***********************]  1 of 1 completed\n"
          ]
        },
        {
          "output_type": "stream",
          "name": "stdout",
          "text": [
            "Terjadi kesalahan saat mendownload MIKA.JK: download() got an unexpected keyword argument 'path'\n",
            "Mendownload data untuk PSAB.JK...\n"
          ]
        },
        {
          "output_type": "stream",
          "name": "stderr",
          "text": [
            "[*********************100%***********************]  1 of 1 completed\n",
            "[*********************100%***********************]  1 of 1 completed\n"
          ]
        },
        {
          "output_type": "stream",
          "name": "stdout",
          "text": [
            "Terjadi kesalahan saat mendownload PSAB.JK: download() got an unexpected keyword argument 'path'\n",
            "Mendownload data untuk SMIL.JK...\n",
            "Terjadi kesalahan saat mendownload SMIL.JK: download() got an unexpected keyword argument 'path'\n",
            "Mendownload data untuk MDKA.JK...\n"
          ]
        },
        {
          "output_type": "stream",
          "name": "stderr",
          "text": [
            "\r[*********************100%***********************]  1 of 1 completed\n"
          ]
        },
        {
          "output_type": "stream",
          "name": "stdout",
          "text": [
            "Terjadi kesalahan saat mendownload MDKA.JK: download() got an unexpected keyword argument 'path'\n",
            "Mendownload data untuk SMGR.JK...\n"
          ]
        },
        {
          "output_type": "stream",
          "name": "stderr",
          "text": [
            "\r[*********************100%***********************]  1 of 1 completed\n"
          ]
        },
        {
          "output_type": "stream",
          "name": "stdout",
          "text": [
            "Terjadi kesalahan saat mendownload SMGR.JK: download() got an unexpected keyword argument 'path'\n",
            "Mendownload data untuk EXCL.JK...\n"
          ]
        },
        {
          "output_type": "stream",
          "name": "stderr",
          "text": [
            "\r[*********************100%***********************]  1 of 1 completed\n"
          ]
        },
        {
          "output_type": "stream",
          "name": "stdout",
          "text": [
            "Terjadi kesalahan saat mendownload EXCL.JK: download() got an unexpected keyword argument 'path'\n",
            "Mendownload data untuk KIJA.JK...\n"
          ]
        },
        {
          "output_type": "stream",
          "name": "stderr",
          "text": [
            "\r[*********************100%***********************]  1 of 1 completed\n"
          ]
        },
        {
          "output_type": "stream",
          "name": "stdout",
          "text": [
            "Terjadi kesalahan saat mendownload KIJA.JK: download() got an unexpected keyword argument 'path'\n",
            "Mendownload data untuk PGAS.JK...\n"
          ]
        },
        {
          "output_type": "stream",
          "name": "stderr",
          "text": [
            "[*********************100%***********************]  1 of 1 completed\n",
            "[*********************100%***********************]  1 of 1 completed"
          ]
        },
        {
          "output_type": "stream",
          "name": "stdout",
          "text": [
            "Terjadi kesalahan saat mendownload PGAS.JK: download() got an unexpected keyword argument 'path'\n",
            "Mendownload data untuk AVIA.JK...\n",
            "Terjadi kesalahan saat mendownload AVIA.JK: download() got an unexpected keyword argument 'path'\n",
            "Mendownload data untuk AYAM.JK...\n"
          ]
        },
        {
          "output_type": "stream",
          "name": "stderr",
          "text": [
            "\n",
            "\r[*********************100%***********************]  1 of 1 completed\n"
          ]
        },
        {
          "output_type": "stream",
          "name": "stdout",
          "text": [
            "Terjadi kesalahan saat mendownload AYAM.JK: download() got an unexpected keyword argument 'path'\n",
            "Mendownload data untuk TINS.JK...\n"
          ]
        },
        {
          "output_type": "stream",
          "name": "stderr",
          "text": [
            "[*********************100%***********************]  1 of 1 completed\n",
            "[*********************100%***********************]  1 of 1 completed"
          ]
        },
        {
          "output_type": "stream",
          "name": "stdout",
          "text": [
            "Terjadi kesalahan saat mendownload TINS.JK: download() got an unexpected keyword argument 'path'\n",
            "Mendownload data untuk SAPX.JK...\n",
            "Terjadi kesalahan saat mendownload SAPX.JK: download() got an unexpected keyword argument 'path'\n",
            "Mendownload data untuk INDF.JK...\n"
          ]
        },
        {
          "output_type": "stream",
          "name": "stderr",
          "text": [
            "\n",
            "[*********************100%***********************]  1 of 1 completed\n",
            "[*********************100%***********************]  1 of 1 completed"
          ]
        },
        {
          "output_type": "stream",
          "name": "stdout",
          "text": [
            "Terjadi kesalahan saat mendownload INDF.JK: download() got an unexpected keyword argument 'path'\n",
            "Mendownload data untuk TCPI.JK...\n"
          ]
        },
        {
          "output_type": "stream",
          "name": "stderr",
          "text": [
            "\n"
          ]
        },
        {
          "output_type": "stream",
          "name": "stdout",
          "text": [
            "Terjadi kesalahan saat mendownload TCPI.JK: download() got an unexpected keyword argument 'path'\n",
            "Mendownload data untuk EMTK.JK...\n"
          ]
        },
        {
          "output_type": "stream",
          "name": "stderr",
          "text": [
            "\r[*********************100%***********************]  1 of 1 completed\n"
          ]
        },
        {
          "output_type": "stream",
          "name": "stdout",
          "text": [
            "Terjadi kesalahan saat mendownload EMTK.JK: download() got an unexpected keyword argument 'path'\n",
            "Mendownload data untuk TPIA.JK...\n"
          ]
        },
        {
          "output_type": "stream",
          "name": "stderr",
          "text": [
            "[*********************100%***********************]  1 of 1 completed\n",
            "[*********************100%***********************]  1 of 1 completed"
          ]
        },
        {
          "output_type": "stream",
          "name": "stdout",
          "text": [
            "Terjadi kesalahan saat mendownload TPIA.JK: download() got an unexpected keyword argument 'path'\n",
            "Mendownload data untuk FILM.JK...\n",
            "Terjadi kesalahan saat mendownload FILM.JK: download() got an unexpected keyword argument 'path'\n",
            "Mendownload data untuk JAST.JK...\n"
          ]
        },
        {
          "output_type": "stream",
          "name": "stderr",
          "text": [
            "\n",
            "\r[*********************100%***********************]  1 of 1 completed\n"
          ]
        },
        {
          "output_type": "stream",
          "name": "stdout",
          "text": [
            "Terjadi kesalahan saat mendownload JAST.JK: download() got an unexpected keyword argument 'path'\n",
            "Mendownload data untuk PTBA.JK...\n"
          ]
        },
        {
          "output_type": "stream",
          "name": "stderr",
          "text": [
            "[*********************100%***********************]  1 of 1 completed\n",
            "[*********************100%***********************]  1 of 1 completed\n"
          ]
        },
        {
          "output_type": "stream",
          "name": "stdout",
          "text": [
            "Terjadi kesalahan saat mendownload PTBA.JK: download() got an unexpected keyword argument 'path'\n",
            "Mendownload data untuk INET.JK...\n",
            "Terjadi kesalahan saat mendownload INET.JK: download() got an unexpected keyword argument 'path'\n",
            "Mendownload data untuk KJEN.JK...\n"
          ]
        },
        {
          "output_type": "stream",
          "name": "stderr",
          "text": [
            "[*********************100%***********************]  1 of 1 completed\n",
            "[*********************100%***********************]  1 of 1 completed\n"
          ]
        },
        {
          "output_type": "stream",
          "name": "stdout",
          "text": [
            "Terjadi kesalahan saat mendownload KJEN.JK: download() got an unexpected keyword argument 'path'\n",
            "Mendownload data untuk MARK.JK...\n",
            "Terjadi kesalahan saat mendownload MARK.JK: download() got an unexpected keyword argument 'path'\n",
            "Mendownload data untuk SRTG.JK...\n"
          ]
        },
        {
          "output_type": "stream",
          "name": "stderr",
          "text": [
            "[*********************100%***********************]  1 of 1 completed\n",
            "[*********************100%***********************]  1 of 1 completed\n"
          ]
        },
        {
          "output_type": "stream",
          "name": "stdout",
          "text": [
            "Terjadi kesalahan saat mendownload SRTG.JK: download() got an unexpected keyword argument 'path'\n",
            "Mendownload data untuk KARW.JK...\n",
            "Terjadi kesalahan saat mendownload KARW.JK: download() got an unexpected keyword argument 'path'\n",
            "Mendownload data untuk UNVR.JK...\n"
          ]
        },
        {
          "output_type": "stream",
          "name": "stderr",
          "text": [
            "\r[*********************100%***********************]  1 of 1 completed\n"
          ]
        },
        {
          "output_type": "stream",
          "name": "stdout",
          "text": [
            "Terjadi kesalahan saat mendownload UNVR.JK: download() got an unexpected keyword argument 'path'\n",
            "Mendownload data untuk ISAT.JK...\n"
          ]
        },
        {
          "output_type": "stream",
          "name": "stderr",
          "text": [
            "[*********************100%***********************]  1 of 1 completed\n",
            "[*********************100%***********************]  1 of 1 completed"
          ]
        },
        {
          "output_type": "stream",
          "name": "stdout",
          "text": [
            "Terjadi kesalahan saat mendownload ISAT.JK: download() got an unexpected keyword argument 'path'\n",
            "Mendownload data untuk WIFI.JK...\n",
            "Terjadi kesalahan saat mendownload WIFI.JK: download() got an unexpected keyword argument 'path'\n",
            "Mendownload data untuk LABA.JK...\n"
          ]
        },
        {
          "output_type": "stream",
          "name": "stderr",
          "text": [
            "\n",
            "\r[*********************100%***********************]  1 of 1 completed\n"
          ]
        },
        {
          "output_type": "stream",
          "name": "stdout",
          "text": [
            "Terjadi kesalahan saat mendownload LABA.JK: download() got an unexpected keyword argument 'path'\n",
            "Mendownload data untuk ITMG.JK...\n"
          ]
        },
        {
          "output_type": "stream",
          "name": "stderr",
          "text": [
            "[*********************100%***********************]  1 of 1 completed\n",
            "[*********************100%***********************]  1 of 1 completed\n"
          ]
        },
        {
          "output_type": "stream",
          "name": "stdout",
          "text": [
            "Terjadi kesalahan saat mendownload ITMG.JK: download() got an unexpected keyword argument 'path'\n",
            "Mendownload data untuk ADMR.JK...\n",
            "Terjadi kesalahan saat mendownload ADMR.JK: download() got an unexpected keyword argument 'path'\n",
            "Mendownload data untuk BULL.JK...\n"
          ]
        },
        {
          "output_type": "stream",
          "name": "stderr",
          "text": [
            "\r[*********************100%***********************]  1 of 1 completed\n"
          ]
        },
        {
          "output_type": "stream",
          "name": "stdout",
          "text": [
            "Terjadi kesalahan saat mendownload BULL.JK: download() got an unexpected keyword argument 'path'\n",
            "Mendownload data untuk MAPI.JK...\n"
          ]
        },
        {
          "output_type": "stream",
          "name": "stderr",
          "text": [
            "[*********************100%***********************]  1 of 1 completed\n",
            "[*********************100%***********************]  1 of 1 completed\n"
          ]
        },
        {
          "output_type": "stream",
          "name": "stdout",
          "text": [
            "Terjadi kesalahan saat mendownload MAPI.JK: download() got an unexpected keyword argument 'path'\n",
            "Mendownload data untuk IOTF.JK...\n",
            "Terjadi kesalahan saat mendownload IOTF.JK: download() got an unexpected keyword argument 'path'\n",
            "Mendownload data untuk MEDC.JK...\n"
          ]
        },
        {
          "output_type": "stream",
          "name": "stderr",
          "text": [
            "\r[*********************100%***********************]  1 of 1 completed\n"
          ]
        },
        {
          "output_type": "stream",
          "name": "stdout",
          "text": [
            "Terjadi kesalahan saat mendownload MEDC.JK: download() got an unexpected keyword argument 'path'\n",
            "Mendownload data untuk INTP.JK...\n"
          ]
        },
        {
          "output_type": "stream",
          "name": "stderr",
          "text": [
            "[*********************100%***********************]  1 of 1 completed\n",
            "[*********************100%***********************]  1 of 1 completed\n"
          ]
        },
        {
          "output_type": "stream",
          "name": "stdout",
          "text": [
            "Terjadi kesalahan saat mendownload INTP.JK: download() got an unexpected keyword argument 'path'\n",
            "Mendownload data untuk CARE.JK...\n",
            "Terjadi kesalahan saat mendownload CARE.JK: download() got an unexpected keyword argument 'path'\n",
            "Mendownload data untuk MAPA.JK...\n"
          ]
        },
        {
          "output_type": "stream",
          "name": "stderr",
          "text": [
            "[*********************100%***********************]  1 of 1 completed\n",
            "[*********************100%***********************]  1 of 1 completed\n"
          ]
        },
        {
          "output_type": "stream",
          "name": "stdout",
          "text": [
            "Terjadi kesalahan saat mendownload MAPA.JK: download() got an unexpected keyword argument 'path'\n",
            "Mendownload data untuk CYBR.JK...\n",
            "Terjadi kesalahan saat mendownload CYBR.JK: download() got an unexpected keyword argument 'path'\n",
            "Mendownload data untuk UNIQ.JK...\n"
          ]
        },
        {
          "output_type": "stream",
          "name": "stderr",
          "text": [
            "\r[*********************100%***********************]  1 of 1 completed\n"
          ]
        },
        {
          "output_type": "stream",
          "name": "stdout",
          "text": [
            "Terjadi kesalahan saat mendownload UNIQ.JK: download() got an unexpected keyword argument 'path'\n",
            "Mendownload data untuk CTRA.JK...\n"
          ]
        },
        {
          "output_type": "stream",
          "name": "stderr",
          "text": [
            "[*********************100%***********************]  1 of 1 completed\n",
            "[*********************100%***********************]  1 of 1 completed\n"
          ]
        },
        {
          "output_type": "stream",
          "name": "stdout",
          "text": [
            "Terjadi kesalahan saat mendownload CTRA.JK: download() got an unexpected keyword argument 'path'\n",
            "Mendownload data untuk ACRO.JK...\n",
            "Terjadi kesalahan saat mendownload ACRO.JK: download() got an unexpected keyword argument 'path'\n",
            "Mendownload data untuk INCO.JK...\n"
          ]
        },
        {
          "output_type": "stream",
          "name": "stderr",
          "text": [
            "\r[*********************100%***********************]  1 of 1 completed\n"
          ]
        },
        {
          "output_type": "stream",
          "name": "stdout",
          "text": [
            "Terjadi kesalahan saat mendownload INCO.JK: download() got an unexpected keyword argument 'path'\n",
            "Mendownload data untuk DSNG.JK...\n"
          ]
        },
        {
          "output_type": "stream",
          "name": "stderr",
          "text": [
            "\r[*********************100%***********************]  1 of 1 completed\n"
          ]
        },
        {
          "output_type": "stream",
          "name": "stdout",
          "text": [
            "Terjadi kesalahan saat mendownload DSNG.JK: download() got an unexpected keyword argument 'path'\n",
            "Mendownload data untuk JPFA.JK...\n"
          ]
        },
        {
          "output_type": "stream",
          "name": "stderr",
          "text": [
            "\r[*********************100%***********************]  1 of 1 completed\n"
          ]
        },
        {
          "output_type": "stream",
          "name": "stdout",
          "text": [
            "Terjadi kesalahan saat mendownload JPFA.JK: download() got an unexpected keyword argument 'path'\n",
            "Mendownload data untuk ENRG.JK...\n"
          ]
        },
        {
          "output_type": "stream",
          "name": "stderr",
          "text": [
            "\r[*********************100%***********************]  1 of 1 completed\n"
          ]
        },
        {
          "output_type": "stream",
          "name": "stdout",
          "text": [
            "Terjadi kesalahan saat mendownload ENRG.JK: download() got an unexpected keyword argument 'path'\n",
            "Mendownload data untuk AKRA.JK...\n"
          ]
        },
        {
          "output_type": "stream",
          "name": "stderr",
          "text": [
            "\r[*********************100%***********************]  1 of 1 completed\n"
          ]
        },
        {
          "output_type": "stream",
          "name": "stdout",
          "text": [
            "Terjadi kesalahan saat mendownload AKRA.JK: download() got an unexpected keyword argument 'path'\n",
            "Mendownload data untuk CPIN.JK...\n"
          ]
        },
        {
          "output_type": "stream",
          "name": "stderr",
          "text": [
            "[*********************100%***********************]  1 of 1 completed\n",
            "[*********************100%***********************]  1 of 1 completed\n"
          ]
        },
        {
          "output_type": "stream",
          "name": "stdout",
          "text": [
            "Terjadi kesalahan saat mendownload CPIN.JK: download() got an unexpected keyword argument 'path'\n",
            "Mendownload data untuk DOOH.JK...\n",
            "Terjadi kesalahan saat mendownload DOOH.JK: download() got an unexpected keyword argument 'path'\n",
            "Mendownload data untuk DEWI.JK...\n"
          ]
        },
        {
          "output_type": "stream",
          "name": "stderr",
          "text": [
            "[*********************100%***********************]  1 of 1 completed\n",
            "[*********************100%***********************]  1 of 1 completed\n"
          ]
        },
        {
          "output_type": "stream",
          "name": "stdout",
          "text": [
            "Terjadi kesalahan saat mendownload DEWI.JK: download() got an unexpected keyword argument 'path'\n",
            "Mendownload data untuk HATM.JK...\n",
            "Terjadi kesalahan saat mendownload HATM.JK: download() got an unexpected keyword argument 'path'\n",
            "Mendownload data untuk CMRY.JK...\n"
          ]
        },
        {
          "output_type": "stream",
          "name": "stderr",
          "text": [
            "\r[*********************100%***********************]  1 of 1 completed\n"
          ]
        },
        {
          "output_type": "stream",
          "name": "stdout",
          "text": [
            "Terjadi kesalahan saat mendownload CMRY.JK: download() got an unexpected keyword argument 'path'\n",
            "Mendownload data untuk MYOR.JK...\n"
          ]
        },
        {
          "output_type": "stream",
          "name": "stderr",
          "text": [
            "[*********************100%***********************]  1 of 1 completed\n",
            "[*********************100%***********************]  1 of 1 completed\n"
          ]
        },
        {
          "output_type": "stream",
          "name": "stdout",
          "text": [
            "Terjadi kesalahan saat mendownload MYOR.JK: download() got an unexpected keyword argument 'path'\n",
            "Mendownload data untuk WIRG.JK...\n",
            "Terjadi kesalahan saat mendownload WIRG.JK: download() got an unexpected keyword argument 'path'\n",
            "Mendownload data untuk STAA.JK...\n"
          ]
        },
        {
          "output_type": "stream",
          "name": "stderr",
          "text": [
            "[*********************100%***********************]  1 of 1 completed\n",
            "[*********************100%***********************]  1 of 1 completed\n"
          ]
        },
        {
          "output_type": "stream",
          "name": "stdout",
          "text": [
            "Terjadi kesalahan saat mendownload STAA.JK: download() got an unexpected keyword argument 'path'\n",
            "Mendownload data untuk DEWA.JK...\n",
            "Terjadi kesalahan saat mendownload DEWA.JK: download() got an unexpected keyword argument 'path'\n",
            "Mendownload data untuk SMRA.JK...\n"
          ]
        },
        {
          "output_type": "stream",
          "name": "stderr",
          "text": [
            "\r[*********************100%***********************]  1 of 1 completed\n"
          ]
        },
        {
          "output_type": "stream",
          "name": "stdout",
          "text": [
            "Terjadi kesalahan saat mendownload SMRA.JK: download() got an unexpected keyword argument 'path'\n",
            "Mendownload data untuk ACES.JK...\n"
          ]
        },
        {
          "output_type": "stream",
          "name": "stderr",
          "text": [
            "[*********************100%***********************]  1 of 1 completed\n",
            "[*********************100%***********************]  1 of 1 completed"
          ]
        },
        {
          "output_type": "stream",
          "name": "stdout",
          "text": [
            "Terjadi kesalahan saat mendownload ACES.JK: download() got an unexpected keyword argument 'path'\n",
            "Mendownload data untuk JIHD.JK...\n"
          ]
        },
        {
          "output_type": "stream",
          "name": "stderr",
          "text": [
            "\n",
            "\r[*********************100%***********************]  1 of 1 completed\n"
          ]
        },
        {
          "output_type": "stream",
          "name": "stdout",
          "text": [
            "Terjadi kesalahan saat mendownload JIHD.JK: download() got an unexpected keyword argument 'path'\n",
            "Mendownload data untuk BSML.JK...\n",
            "Terjadi kesalahan saat mendownload BSML.JK: download() got an unexpected keyword argument 'path'\n",
            "Mendownload data untuk CLEO.JK...\n"
          ]
        },
        {
          "output_type": "stream",
          "name": "stderr",
          "text": [
            "\r[*********************100%***********************]  1 of 1 completed\n"
          ]
        },
        {
          "output_type": "stream",
          "name": "stdout",
          "text": [
            "Terjadi kesalahan saat mendownload CLEO.JK: download() got an unexpected keyword argument 'path'\n",
            "Mendownload data untuk GZCO.JK...\n"
          ]
        },
        {
          "output_type": "stream",
          "name": "stderr",
          "text": [
            "\r[*********************100%***********************]  1 of 1 completed\n"
          ]
        },
        {
          "output_type": "stream",
          "name": "stdout",
          "text": [
            "Terjadi kesalahan saat mendownload GZCO.JK: download() got an unexpected keyword argument 'path'\n",
            "Mendownload data untuk INKP.JK...\n"
          ]
        },
        {
          "output_type": "stream",
          "name": "stderr",
          "text": [
            "\r[*********************100%***********************]  1 of 1 completed\n"
          ]
        },
        {
          "output_type": "stream",
          "name": "stdout",
          "text": [
            "Terjadi kesalahan saat mendownload INKP.JK: download() got an unexpected keyword argument 'path'\n",
            "Mendownload data untuk MLPL.JK...\n"
          ]
        },
        {
          "output_type": "stream",
          "name": "stderr",
          "text": [
            "[*********************100%***********************]  1 of 1 completed\n",
            "[*********************100%***********************]  1 of 1 completed\n"
          ]
        },
        {
          "output_type": "stream",
          "name": "stdout",
          "text": [
            "Terjadi kesalahan saat mendownload MLPL.JK: download() got an unexpected keyword argument 'path'\n",
            "Mendownload data untuk MTEL.JK...\n",
            "Terjadi kesalahan saat mendownload MTEL.JK: download() got an unexpected keyword argument 'path'\n",
            "Mendownload data untuk VERN.JK...\n"
          ]
        },
        {
          "output_type": "stream",
          "name": "stderr",
          "text": [
            "\r[*********************100%***********************]  1 of 1 completed\n"
          ]
        },
        {
          "output_type": "stream",
          "name": "stdout",
          "text": [
            "Terjadi kesalahan saat mendownload VERN.JK: download() got an unexpected keyword argument 'path'\n",
            "Mendownload data untuk LPKR.JK...\n"
          ]
        },
        {
          "output_type": "stream",
          "name": "stderr",
          "text": [
            "\r[*********************100%***********************]  1 of 1 completed\n"
          ]
        },
        {
          "output_type": "stream",
          "name": "stdout",
          "text": [
            "Terjadi kesalahan saat mendownload LPKR.JK: download() got an unexpected keyword argument 'path'\n",
            "Mendownload data untuk PWON.JK...\n"
          ]
        },
        {
          "output_type": "stream",
          "name": "stderr",
          "text": [
            "\r[*********************100%***********************]  1 of 1 completed\n"
          ]
        },
        {
          "output_type": "stream",
          "name": "stdout",
          "text": [
            "Terjadi kesalahan saat mendownload PWON.JK: download() got an unexpected keyword argument 'path'\n",
            "Mendownload data untuk MNCN.JK...\n"
          ]
        },
        {
          "output_type": "stream",
          "name": "stderr",
          "text": [
            "[*********************100%***********************]  1 of 1 completed\n",
            "[*********************100%***********************]  1 of 1 completed"
          ]
        },
        {
          "output_type": "stream",
          "name": "stdout",
          "text": [
            "Terjadi kesalahan saat mendownload MNCN.JK: download() got an unexpected keyword argument 'path'\n",
            "Mendownload data untuk PURI.JK...\n"
          ]
        },
        {
          "output_type": "stream",
          "name": "stderr",
          "text": [
            "\n"
          ]
        },
        {
          "output_type": "stream",
          "name": "stdout",
          "text": [
            "Terjadi kesalahan saat mendownload PURI.JK: download() got an unexpected keyword argument 'path'\n",
            "Mendownload data untuk KPIG.JK...\n"
          ]
        },
        {
          "output_type": "stream",
          "name": "stderr",
          "text": [
            "[*********************100%***********************]  1 of 1 completed\n",
            "[*********************100%***********************]  1 of 1 completed"
          ]
        },
        {
          "output_type": "stream",
          "name": "stdout",
          "text": [
            "Terjadi kesalahan saat mendownload KPIG.JK: download() got an unexpected keyword argument 'path'\n",
            "Mendownload data untuk MTMH.JK...\n",
            "Terjadi kesalahan saat mendownload MTMH.JK: download() got an unexpected keyword argument 'path'\n",
            "Mendownload data untuk MBMA.JK...\n"
          ]
        },
        {
          "output_type": "stream",
          "name": "stderr",
          "text": [
            "\n",
            "\r[*********************100%***********************]  1 of 1 completed\n"
          ]
        },
        {
          "output_type": "stream",
          "name": "stdout",
          "text": [
            "Terjadi kesalahan saat mendownload MBMA.JK: download() got an unexpected keyword argument 'path'\n",
            "Mendownload data untuk IMPC.JK...\n"
          ]
        },
        {
          "output_type": "stream",
          "name": "stderr",
          "text": [
            "\r[*********************100%***********************]  1 of 1 completed\n"
          ]
        },
        {
          "output_type": "stream",
          "name": "stdout",
          "text": [
            "Terjadi kesalahan saat mendownload IMPC.JK: download() got an unexpected keyword argument 'path'\n",
            "Mendownload data untuk TPMA.JK...\n"
          ]
        },
        {
          "output_type": "stream",
          "name": "stderr",
          "text": [
            "\r[*********************100%***********************]  1 of 1 completed\n"
          ]
        },
        {
          "output_type": "stream",
          "name": "stdout",
          "text": [
            "Terjadi kesalahan saat mendownload TPMA.JK: download() got an unexpected keyword argument 'path'\n",
            "Mendownload data untuk ESSA.JK...\n"
          ]
        },
        {
          "output_type": "stream",
          "name": "stderr",
          "text": [
            "\r[*********************100%***********************]  1 of 1 completed\n"
          ]
        },
        {
          "output_type": "stream",
          "name": "stdout",
          "text": [
            "Terjadi kesalahan saat mendownload ESSA.JK: download() got an unexpected keyword argument 'path'\n",
            "Mendownload data untuk JTPE.JK...\n"
          ]
        },
        {
          "output_type": "stream",
          "name": "stderr",
          "text": [
            "\r[*********************100%***********************]  1 of 1 completed\n"
          ]
        },
        {
          "output_type": "stream",
          "name": "stdout",
          "text": [
            "Terjadi kesalahan saat mendownload JTPE.JK: download() got an unexpected keyword argument 'path'\n",
            "Mendownload data untuk LSIP.JK...\n"
          ]
        },
        {
          "output_type": "stream",
          "name": "stderr",
          "text": [
            "[*********************100%***********************]  1 of 1 completed\n",
            "[*********************100%***********************]  1 of 1 completed\n"
          ]
        },
        {
          "output_type": "stream",
          "name": "stdout",
          "text": [
            "Terjadi kesalahan saat mendownload LSIP.JK: download() got an unexpected keyword argument 'path'\n",
            "Mendownload data untuk AWAN.JK...\n",
            "Terjadi kesalahan saat mendownload AWAN.JK: download() got an unexpected keyword argument 'path'\n",
            "Mendownload data untuk ERAA.JK...\n"
          ]
        },
        {
          "output_type": "stream",
          "name": "stderr",
          "text": [
            "[*********************100%***********************]  1 of 1 completed\n",
            "[*********************100%***********************]  1 of 1 completed\n"
          ]
        },
        {
          "output_type": "stream",
          "name": "stdout",
          "text": [
            "Terjadi kesalahan saat mendownload ERAA.JK: download() got an unexpected keyword argument 'path'\n",
            "Mendownload data untuk MUTU.JK...\n",
            "Terjadi kesalahan saat mendownload MUTU.JK: download() got an unexpected keyword argument 'path'\n",
            "Mendownload data untuk KOKA.JK...\n"
          ]
        },
        {
          "output_type": "stream",
          "name": "stderr",
          "text": [
            "[*********************100%***********************]  1 of 1 completed\n",
            "[*********************100%***********************]  1 of 1 completed\n"
          ]
        },
        {
          "output_type": "stream",
          "name": "stdout",
          "text": [
            "Terjadi kesalahan saat mendownload KOKA.JK: download() got an unexpected keyword argument 'path'\n",
            "Mendownload data untuk VKTR.JK...\n",
            "Terjadi kesalahan saat mendownload VKTR.JK: download() got an unexpected keyword argument 'path'\n",
            "Mendownload data untuk INDY.JK...\n"
          ]
        },
        {
          "output_type": "stream",
          "name": "stderr",
          "text": [
            "\r[*********************100%***********************]  1 of 1 completed\n"
          ]
        },
        {
          "output_type": "stream",
          "name": "stdout",
          "text": [
            "Terjadi kesalahan saat mendownload INDY.JK: download() got an unexpected keyword argument 'path'\n",
            "Mendownload data untuk HRUM.JK...\n"
          ]
        },
        {
          "output_type": "stream",
          "name": "stderr",
          "text": [
            "[*********************100%***********************]  1 of 1 completed\n",
            "[*********************100%***********************]  1 of 1 completed\n"
          ]
        },
        {
          "output_type": "stream",
          "name": "stdout",
          "text": [
            "Terjadi kesalahan saat mendownload HRUM.JK: download() got an unexpected keyword argument 'path'\n",
            "Mendownload data untuk POWR.JK...\n",
            "Terjadi kesalahan saat mendownload POWR.JK: download() got an unexpected keyword argument 'path'\n",
            "Mendownload data untuk SIDO.JK...\n"
          ]
        },
        {
          "output_type": "stream",
          "name": "stderr",
          "text": [
            "[*********************100%***********************]  1 of 1 completed\n",
            "[*********************100%***********************]  1 of 1 completed"
          ]
        },
        {
          "output_type": "stream",
          "name": "stdout",
          "text": [
            "Terjadi kesalahan saat mendownload SIDO.JK: download() got an unexpected keyword argument 'path'\n",
            "Mendownload data untuk BTPS.JK...\n"
          ]
        },
        {
          "output_type": "stream",
          "name": "stderr",
          "text": [
            "\n",
            "\r[*********************100%***********************]  1 of 1 completed\n"
          ]
        },
        {
          "output_type": "stream",
          "name": "stdout",
          "text": [
            "Terjadi kesalahan saat mendownload BTPS.JK: download() got an unexpected keyword argument 'path'\n",
            "Mendownload data untuk MSKY.JK...\n",
            "Terjadi kesalahan saat mendownload MSKY.JK: download() got an unexpected keyword argument 'path'\n",
            "Mendownload data untuk AALI.JK...\n"
          ]
        },
        {
          "output_type": "stream",
          "name": "stderr",
          "text": [
            "[*********************100%***********************]  1 of 1 completed\n",
            "[*********************100%***********************]  1 of 1 completed\n"
          ]
        },
        {
          "output_type": "stream",
          "name": "stdout",
          "text": [
            "Terjadi kesalahan saat mendownload AALI.JK: download() got an unexpected keyword argument 'path'\n",
            "Mendownload data untuk NICE.JK...\n",
            "Terjadi kesalahan saat mendownload NICE.JK: download() got an unexpected keyword argument 'path'\n",
            "Mendownload data untuk SILO.JK...\n"
          ]
        },
        {
          "output_type": "stream",
          "name": "stderr",
          "text": [
            "\r[*********************100%***********************]  1 of 1 completed\n"
          ]
        },
        {
          "output_type": "stream",
          "name": "stdout",
          "text": [
            "Terjadi kesalahan saat mendownload SILO.JK: download() got an unexpected keyword argument 'path'\n",
            "Mendownload data untuk TKIM.JK...\n"
          ]
        },
        {
          "output_type": "stream",
          "name": "stderr",
          "text": [
            "\r[*********************100%***********************]  1 of 1 completed\n"
          ]
        },
        {
          "output_type": "stream",
          "name": "stdout",
          "text": [
            "Terjadi kesalahan saat mendownload TKIM.JK: download() got an unexpected keyword argument 'path'\n",
            "Mendownload data untuk TSPC.JK...\n"
          ]
        },
        {
          "output_type": "stream",
          "name": "stderr",
          "text": [
            "\r[*********************100%***********************]  1 of 1 completed\n"
          ]
        },
        {
          "output_type": "stream",
          "name": "stdout",
          "text": [
            "Terjadi kesalahan saat mendownload TSPC.JK: download() got an unexpected keyword argument 'path'\n",
            "Mendownload data untuk HITS.JK...\n"
          ]
        },
        {
          "output_type": "stream",
          "name": "stderr",
          "text": [
            "\r[*********************100%***********************]  1 of 1 completed\n"
          ]
        },
        {
          "output_type": "stream",
          "name": "stdout",
          "text": [
            "Terjadi kesalahan saat mendownload HITS.JK: download() got an unexpected keyword argument 'path'\n",
            "Mendownload data untuk ELSA.JK...\n"
          ]
        },
        {
          "output_type": "stream",
          "name": "stderr",
          "text": [
            "[*********************100%***********************]  1 of 1 completed\n",
            "[*********************100%***********************]  1 of 1 completed\n"
          ]
        },
        {
          "output_type": "stream",
          "name": "stdout",
          "text": [
            "Terjadi kesalahan saat mendownload ELSA.JK: download() got an unexpected keyword argument 'path'\n",
            "Mendownload data untuk BANK.JK...\n",
            "Terjadi kesalahan saat mendownload BANK.JK: download() got an unexpected keyword argument 'path'\n",
            "Mendownload data untuk GJTL.JK...\n"
          ]
        },
        {
          "output_type": "stream",
          "name": "stderr",
          "text": [
            "[*********************100%***********************]  1 of 1 completed\n",
            "[*********************100%***********************]  1 of 1 completed"
          ]
        },
        {
          "output_type": "stream",
          "name": "stdout",
          "text": [
            "Terjadi kesalahan saat mendownload GJTL.JK: download() got an unexpected keyword argument 'path'\n",
            "Mendownload data untuk BAPA.JK...\n"
          ]
        },
        {
          "output_type": "stream",
          "name": "stderr",
          "text": [
            "\n",
            "\r[*********************100%***********************]  1 of 1 completed\n"
          ]
        },
        {
          "output_type": "stream",
          "name": "stdout",
          "text": [
            "Terjadi kesalahan saat mendownload BAPA.JK: download() got an unexpected keyword argument 'path'\n",
            "Mendownload data untuk PPRI.JK...\n",
            "Terjadi kesalahan saat mendownload PPRI.JK: download() got an unexpected keyword argument 'path'\n",
            "Mendownload data untuk NEST.JK...\n"
          ]
        },
        {
          "output_type": "stream",
          "name": "stderr",
          "text": [
            "[*********************100%***********************]  1 of 1 completed\n",
            "[*********************100%***********************]  1 of 1 completed\n"
          ]
        },
        {
          "output_type": "stream",
          "name": "stdout",
          "text": [
            "Terjadi kesalahan saat mendownload NEST.JK: download() got an unexpected keyword argument 'path'\n",
            "Mendownload data untuk BSDE.JK...\n"
          ]
        },
        {
          "output_type": "stream",
          "name": "stderr",
          "text": [
            "\r[*********************100%***********************]  1 of 1 completed\n"
          ]
        },
        {
          "output_type": "stream",
          "name": "stdout",
          "text": [
            "Terjadi kesalahan saat mendownload BSDE.JK: download() got an unexpected keyword argument 'path'\n",
            "Mendownload data untuk PGEO.JK...\n",
            "Terjadi kesalahan saat mendownload PGEO.JK: download() got an unexpected keyword argument 'path'\n",
            "Mendownload data untuk DMAS.JK...\n"
          ]
        },
        {
          "output_type": "stream",
          "name": "stderr",
          "text": [
            "[*********************100%***********************]  1 of 1 completed\n",
            "[*********************100%***********************]  1 of 1 completed\n"
          ]
        },
        {
          "output_type": "stream",
          "name": "stdout",
          "text": [
            "Terjadi kesalahan saat mendownload DMAS.JK: download() got an unexpected keyword argument 'path'\n",
            "Mendownload data untuk KUAS.JK...\n",
            "Terjadi kesalahan saat mendownload KUAS.JK: download() got an unexpected keyword argument 'path'\n",
            "Mendownload data untuk FIRE.JK...\n"
          ]
        },
        {
          "output_type": "stream",
          "name": "stderr",
          "text": [
            "[*********************100%***********************]  1 of 1 completed\n",
            "[*********************100%***********************]  1 of 1 completed\n"
          ]
        },
        {
          "output_type": "stream",
          "name": "stdout",
          "text": [
            "Terjadi kesalahan saat mendownload FIRE.JK: download() got an unexpected keyword argument 'path'\n",
            "Mendownload data untuk SATU.JK...\n",
            "Terjadi kesalahan saat mendownload SATU.JK: download() got an unexpected keyword argument 'path'\n",
            "Mendownload data untuk SNLK.JK...\n"
          ]
        },
        {
          "output_type": "stream",
          "name": "stderr",
          "text": [
            "[*********************100%***********************]  1 of 1 completed\n",
            "[*********************100%***********************]  1 of 1 completed\n"
          ]
        },
        {
          "output_type": "stream",
          "name": "stdout",
          "text": [
            "Terjadi kesalahan saat mendownload SNLK.JK: download() got an unexpected keyword argument 'path'\n",
            "Mendownload data untuk VISI.JK...\n",
            "Terjadi kesalahan saat mendownload VISI.JK: download() got an unexpected keyword argument 'path'\n",
            "Mendownload data untuk IKPM.JK...\n"
          ]
        },
        {
          "output_type": "stream",
          "name": "stderr",
          "text": [
            "\r[*********************100%***********************]  1 of 1 completed\n"
          ]
        },
        {
          "output_type": "stream",
          "name": "stdout",
          "text": [
            "Terjadi kesalahan saat mendownload IKPM.JK: download() got an unexpected keyword argument 'path'\n",
            "Mendownload data untuk TOTL.JK...\n"
          ]
        },
        {
          "output_type": "stream",
          "name": "stderr",
          "text": [
            "[*********************100%***********************]  1 of 1 completed\n",
            "[*********************100%***********************]  1 of 1 completed\n"
          ]
        },
        {
          "output_type": "stream",
          "name": "stdout",
          "text": [
            "Terjadi kesalahan saat mendownload TOTL.JK: download() got an unexpected keyword argument 'path'\n",
            "Mendownload data untuk HAIS.JK...\n",
            "Terjadi kesalahan saat mendownload HAIS.JK: download() got an unexpected keyword argument 'path'\n",
            "Mendownload data untuk TOSK.JK...\n"
          ]
        },
        {
          "output_type": "stream",
          "name": "stderr",
          "text": [
            "\r[*********************100%***********************]  1 of 1 completed\n"
          ]
        },
        {
          "output_type": "stream",
          "name": "stdout",
          "text": [
            "Terjadi kesalahan saat mendownload TOSK.JK: download() got an unexpected keyword argument 'path'\n",
            "Mendownload data untuk BMTR.JK...\n"
          ]
        },
        {
          "output_type": "stream",
          "name": "stderr",
          "text": [
            "\r[*********************100%***********************]  1 of 1 completed\n"
          ]
        },
        {
          "output_type": "stream",
          "name": "stdout",
          "text": [
            "Terjadi kesalahan saat mendownload BMTR.JK: download() got an unexpected keyword argument 'path'\n",
            "Mendownload data untuk ADHI.JK...\n"
          ]
        },
        {
          "output_type": "stream",
          "name": "stderr",
          "text": [
            "[*********************100%***********************]  1 of 1 completed\n",
            "[*********************100%***********************]  1 of 1 completed\n"
          ]
        },
        {
          "output_type": "stream",
          "name": "stdout",
          "text": [
            "Terjadi kesalahan saat mendownload ADHI.JK: download() got an unexpected keyword argument 'path'\n",
            "Mendownload data untuk BABY.JK...\n",
            "Terjadi kesalahan saat mendownload BABY.JK: download() got an unexpected keyword argument 'path'\n",
            "Mendownload data untuk MAHA.JK...\n"
          ]
        },
        {
          "output_type": "stream",
          "name": "stderr",
          "text": [
            "[*********************100%***********************]  1 of 1 completed\n",
            "[*********************100%***********************]  1 of 1 completed\n"
          ]
        },
        {
          "output_type": "stream",
          "name": "stdout",
          "text": [
            "Terjadi kesalahan saat mendownload MAHA.JK: download() got an unexpected keyword argument 'path'\n",
            "Mendownload data untuk DMMX.JK...\n",
            "Terjadi kesalahan saat mendownload DMMX.JK: download() got an unexpected keyword argument 'path'\n",
            "Mendownload data untuk DKFT.JK...\n"
          ]
        },
        {
          "output_type": "stream",
          "name": "stderr",
          "text": [
            "\r[*********************100%***********************]  1 of 1 completed\n"
          ]
        },
        {
          "output_type": "stream",
          "name": "stdout",
          "text": [
            "Terjadi kesalahan saat mendownload DKFT.JK: download() got an unexpected keyword argument 'path'\n",
            "Mendownload data untuk ITMA.JK...\n"
          ]
        },
        {
          "output_type": "stream",
          "name": "stderr",
          "text": [
            "[*********************100%***********************]  1 of 1 completed\n",
            "[*********************100%***********************]  1 of 1 completed\n"
          ]
        },
        {
          "output_type": "stream",
          "name": "stdout",
          "text": [
            "Terjadi kesalahan saat mendownload ITMA.JK: download() got an unexpected keyword argument 'path'\n",
            "Mendownload data untuk TAPG.JK...\n",
            "Terjadi kesalahan saat mendownload TAPG.JK: download() got an unexpected keyword argument 'path'\n",
            "Mendownload data untuk TMPO.JK...\n"
          ]
        },
        {
          "output_type": "stream",
          "name": "stderr",
          "text": [
            "\r[*********************100%***********************]  1 of 1 completed\n"
          ]
        },
        {
          "output_type": "stream",
          "name": "stdout",
          "text": [
            "Terjadi kesalahan saat mendownload TMPO.JK: download() got an unexpected keyword argument 'path'\n",
            "Mendownload data untuk BKSL.JK...\n"
          ]
        },
        {
          "output_type": "stream",
          "name": "stderr",
          "text": [
            "[*********************100%***********************]  1 of 1 completed\n",
            "[*********************100%***********************]  1 of 1 completed"
          ]
        },
        {
          "output_type": "stream",
          "name": "stdout",
          "text": [
            "Terjadi kesalahan saat mendownload BKSL.JK: download() got an unexpected keyword argument 'path'\n",
            "Mendownload data untuk AKSI.JK...\n"
          ]
        },
        {
          "output_type": "stream",
          "name": "stderr",
          "text": [
            "\n"
          ]
        },
        {
          "output_type": "stream",
          "name": "stdout",
          "text": [
            "Terjadi kesalahan saat mendownload AKSI.JK: download() got an unexpected keyword argument 'path'\n",
            "Mendownload data untuk KKGI.JK...\n"
          ]
        },
        {
          "output_type": "stream",
          "name": "stderr",
          "text": [
            "\r[*********************100%***********************]  1 of 1 completed\n"
          ]
        },
        {
          "output_type": "stream",
          "name": "stdout",
          "text": [
            "Terjadi kesalahan saat mendownload KKGI.JK: download() got an unexpected keyword argument 'path'\n",
            "Mendownload data untuk BYAN.JK...\n"
          ]
        },
        {
          "output_type": "stream",
          "name": "stderr",
          "text": [
            "\r[*********************100%***********************]  1 of 1 completed\n"
          ]
        },
        {
          "output_type": "stream",
          "name": "stdout",
          "text": [
            "Terjadi kesalahan saat mendownload BYAN.JK: download() got an unexpected keyword argument 'path'\n",
            "Mendownload data untuk SMSM.JK...\n"
          ]
        },
        {
          "output_type": "stream",
          "name": "stderr",
          "text": [
            "[*********************100%***********************]  1 of 1 completed\n",
            "[*********************100%***********************]  1 of 1 completed"
          ]
        },
        {
          "output_type": "stream",
          "name": "stdout",
          "text": [
            "Terjadi kesalahan saat mendownload SMSM.JK: download() got an unexpected keyword argument 'path'\n",
            "Mendownload data untuk BDKR.JK...\n",
            "Terjadi kesalahan saat mendownload BDKR.JK: download() got an unexpected keyword argument 'path'\n",
            "Mendownload data untuk RGAS.JK...\n"
          ]
        },
        {
          "output_type": "stream",
          "name": "stderr",
          "text": [
            "\n",
            "\r[*********************100%***********************]  1 of 1 completed\n"
          ]
        },
        {
          "output_type": "stream",
          "name": "stdout",
          "text": [
            "Terjadi kesalahan saat mendownload RGAS.JK: download() got an unexpected keyword argument 'path'\n",
            "Mendownload data untuk MYOH.JK...\n"
          ]
        },
        {
          "output_type": "stream",
          "name": "stderr",
          "text": [
            "[*********************100%***********************]  1 of 1 completed\n",
            "[*********************100%***********************]  1 of 1 completed"
          ]
        },
        {
          "output_type": "stream",
          "name": "stdout",
          "text": [
            "Terjadi kesalahan saat mendownload MYOH.JK: download() got an unexpected keyword argument 'path'\n",
            "Mendownload data untuk CGAS.JK...\n",
            "Terjadi kesalahan saat mendownload CGAS.JK: download() got an unexpected keyword argument 'path'\n",
            "Mendownload data untuk MPPA.JK...\n"
          ]
        },
        {
          "output_type": "stream",
          "name": "stderr",
          "text": [
            "\n",
            "[*********************100%***********************]  1 of 1 completed\n",
            "[*********************100%***********************]  1 of 1 completed"
          ]
        },
        {
          "output_type": "stream",
          "name": "stdout",
          "text": [
            "Terjadi kesalahan saat mendownload MPPA.JK: download() got an unexpected keyword argument 'path'\n",
            "Mendownload data untuk DOSS.JK...\n",
            "Terjadi kesalahan saat mendownload DOSS.JK: download() got an unexpected keyword argument 'path'\n",
            "Mendownload data untuk SMDR.JK...\n"
          ]
        },
        {
          "output_type": "stream",
          "name": "stderr",
          "text": [
            "\n",
            "[*********************100%***********************]  1 of 1 completed\n"
          ]
        },
        {
          "output_type": "stream",
          "name": "stdout",
          "text": [
            "Terjadi kesalahan saat mendownload SMDR.JK: download() got an unexpected keyword argument 'path'\n",
            "Mendownload data untuk DILD.JK...\n"
          ]
        },
        {
          "output_type": "stream",
          "name": "stderr",
          "text": [
            "\r[*********************100%***********************]  1 of 1 completed\n"
          ]
        },
        {
          "output_type": "stream",
          "name": "stdout",
          "text": [
            "Terjadi kesalahan saat mendownload DILD.JK: download() got an unexpected keyword argument 'path'\n",
            "Mendownload data untuk HEXA.JK...\n"
          ]
        },
        {
          "output_type": "stream",
          "name": "stderr",
          "text": [
            "[*********************100%***********************]  1 of 1 completed\n",
            "[*********************100%***********************]  1 of 1 completed\n"
          ]
        },
        {
          "output_type": "stream",
          "name": "stdout",
          "text": [
            "Terjadi kesalahan saat mendownload HEXA.JK: download() got an unexpected keyword argument 'path'\n",
            "Mendownload data untuk AREA.JK...\n",
            "Terjadi kesalahan saat mendownload AREA.JK: download() got an unexpected keyword argument 'path'\n",
            "Mendownload data untuk PTPP.JK...\n"
          ]
        },
        {
          "output_type": "stream",
          "name": "stderr",
          "text": [
            "[*********************100%***********************]  1 of 1 completed\n",
            "[*********************100%***********************]  1 of 1 completed"
          ]
        },
        {
          "output_type": "stream",
          "name": "stdout",
          "text": [
            "Terjadi kesalahan saat mendownload PTPP.JK: download() got an unexpected keyword argument 'path'\n",
            "Mendownload data untuk KEJU.JK...\n"
          ]
        },
        {
          "output_type": "stream",
          "name": "stderr",
          "text": [
            "\n",
            "\r[*********************100%***********************]  1 of 1 completed\n"
          ]
        },
        {
          "output_type": "stream",
          "name": "stdout",
          "text": [
            "Terjadi kesalahan saat mendownload KEJU.JK: download() got an unexpected keyword argument 'path'\n",
            "Mendownload data untuk BIRD.JK...\n",
            "Terjadi kesalahan saat mendownload BIRD.JK: download() got an unexpected keyword argument 'path'\n",
            "Mendownload data untuk BOLT.JK...\n"
          ]
        },
        {
          "output_type": "stream",
          "name": "stderr",
          "text": [
            "[*********************100%***********************]  1 of 1 completed\n",
            "[*********************100%***********************]  1 of 1 completed\n"
          ]
        },
        {
          "output_type": "stream",
          "name": "stdout",
          "text": [
            "Terjadi kesalahan saat mendownload BOLT.JK: download() got an unexpected keyword argument 'path'\n",
            "Mendownload data untuk PRDA.JK...\n",
            "Terjadi kesalahan saat mendownload PRDA.JK: download() got an unexpected keyword argument 'path'\n",
            "Mendownload data untuk AUTO.JK...\n"
          ]
        },
        {
          "output_type": "stream",
          "name": "stderr",
          "text": [
            "\r[*********************100%***********************]  1 of 1 completed\n"
          ]
        },
        {
          "output_type": "stream",
          "name": "stdout",
          "text": [
            "Terjadi kesalahan saat mendownload AUTO.JK: download() got an unexpected keyword argument 'path'\n",
            "Mendownload data untuk LPPF.JK...\n"
          ]
        },
        {
          "output_type": "stream",
          "name": "stderr",
          "text": [
            "\r[*********************100%***********************]  1 of 1 completed\n"
          ]
        },
        {
          "output_type": "stream",
          "name": "stdout",
          "text": [
            "Terjadi kesalahan saat mendownload LPPF.JK: download() got an unexpected keyword argument 'path'\n",
            "Mendownload data untuk AIMS.JK...\n"
          ]
        },
        {
          "output_type": "stream",
          "name": "stderr",
          "text": [
            "\r[*********************100%***********************]  1 of 1 completed\n"
          ]
        },
        {
          "output_type": "stream",
          "name": "stdout",
          "text": [
            "Terjadi kesalahan saat mendownload AIMS.JK: download() got an unexpected keyword argument 'path'\n",
            "Mendownload data untuk AMFG.JK...\n"
          ]
        },
        {
          "output_type": "stream",
          "name": "stderr",
          "text": [
            "[*********************100%***********************]  1 of 1 completed\n",
            "[*********************100%***********************]  1 of 1 completed"
          ]
        },
        {
          "output_type": "stream",
          "name": "stdout",
          "text": [
            "Terjadi kesalahan saat mendownload AMFG.JK: download() got an unexpected keyword argument 'path'\n",
            "Mendownload data untuk FREN.JK...\n"
          ]
        },
        {
          "output_type": "stream",
          "name": "stderr",
          "text": [
            "\n",
            "[*********************100%***********************]  1 of 1 completed"
          ]
        },
        {
          "output_type": "stream",
          "name": "stdout",
          "text": [
            "Terjadi kesalahan saat mendownload FREN.JK: download() got an unexpected keyword argument 'path'\n",
            "Mendownload data untuk MPMX.JK...\n",
            "Terjadi kesalahan saat mendownload MPMX.JK: download() got an unexpected keyword argument 'path'\n",
            "Mendownload data untuk HOKI.JK...\n"
          ]
        },
        {
          "output_type": "stream",
          "name": "stderr",
          "text": [
            "\n",
            "[*********************100%***********************]  1 of 1 completed\n",
            "[*********************100%***********************]  1 of 1 completed\n"
          ]
        },
        {
          "output_type": "stream",
          "name": "stdout",
          "text": [
            "Terjadi kesalahan saat mendownload HOKI.JK: download() got an unexpected keyword argument 'path'\n",
            "Mendownload data untuk SMGA.JK...\n",
            "Terjadi kesalahan saat mendownload SMGA.JK: download() got an unexpected keyword argument 'path'\n",
            "Mendownload data untuk OMED.JK...\n"
          ]
        },
        {
          "output_type": "stream",
          "name": "stderr",
          "text": [
            "[*********************100%***********************]  1 of 1 completed\n",
            "[*********************100%***********************]  1 of 1 completed\n"
          ]
        },
        {
          "output_type": "stream",
          "name": "stdout",
          "text": [
            "Terjadi kesalahan saat mendownload OMED.JK: download() got an unexpected keyword argument 'path'\n",
            "Mendownload data untuk BSSR.JK...\n",
            "Terjadi kesalahan saat mendownload BSSR.JK: download() got an unexpected keyword argument 'path'\n",
            "Mendownload data untuk MIDI.JK...\n"
          ]
        },
        {
          "output_type": "stream",
          "name": "stderr",
          "text": [
            "[*********************100%***********************]  1 of 1 completed\n",
            "[*********************100%***********************]  1 of 1 completed"
          ]
        },
        {
          "output_type": "stream",
          "name": "stdout",
          "text": [
            "Terjadi kesalahan saat mendownload MIDI.JK: download() got an unexpected keyword argument 'path'\n",
            "Mendownload data untuk BEST.JK...\n"
          ]
        },
        {
          "output_type": "stream",
          "name": "stderr",
          "text": [
            "\n",
            "\r[*********************100%***********************]  1 of 1 completed\n"
          ]
        },
        {
          "output_type": "stream",
          "name": "stdout",
          "text": [
            "Terjadi kesalahan saat mendownload BEST.JK: download() got an unexpected keyword argument 'path'\n",
            "Mendownload data untuk ASLI.JK...\n",
            "Terjadi kesalahan saat mendownload ASLI.JK: download() got an unexpected keyword argument 'path'\n",
            "Mendownload data untuk ARNA.JK...\n"
          ]
        },
        {
          "output_type": "stream",
          "name": "stderr",
          "text": [
            "\r[*********************100%***********************]  1 of 1 completed\n"
          ]
        },
        {
          "output_type": "stream",
          "name": "stdout",
          "text": [
            "Terjadi kesalahan saat mendownload ARNA.JK: download() got an unexpected keyword argument 'path'\n",
            "Mendownload data untuk MLIA.JK...\n"
          ]
        },
        {
          "output_type": "stream",
          "name": "stderr",
          "text": [
            "[*********************100%***********************]  1 of 1 completed\n",
            "[*********************100%***********************]  1 of 1 completed\n"
          ]
        },
        {
          "output_type": "stream",
          "name": "stdout",
          "text": [
            "Terjadi kesalahan saat mendownload MLIA.JK: download() got an unexpected keyword argument 'path'\n",
            "Mendownload data untuk ERAL.JK...\n",
            "Terjadi kesalahan saat mendownload ERAL.JK: download() got an unexpected keyword argument 'path'\n",
            "Mendownload data untuk ELTY.JK...\n"
          ]
        },
        {
          "output_type": "stream",
          "name": "stderr",
          "text": [
            "\r[*********************100%***********************]  1 of 1 completed\n"
          ]
        },
        {
          "output_type": "stream",
          "name": "stdout",
          "text": [
            "Terjadi kesalahan saat mendownload ELTY.JK: download() got an unexpected keyword argument 'path'\n",
            "Mendownload data untuk JRPT.JK...\n"
          ]
        },
        {
          "output_type": "stream",
          "name": "stderr",
          "text": [
            "[*********************100%***********************]  1 of 1 completed\n",
            "[*********************100%***********************]  1 of 1 completed"
          ]
        },
        {
          "output_type": "stream",
          "name": "stdout",
          "text": [
            "Terjadi kesalahan saat mendownload JRPT.JK: download() got an unexpected keyword argument 'path'\n",
            "Mendownload data untuk MSTI.JK...\n",
            "Terjadi kesalahan saat mendownload MSTI.JK: download() got an unexpected keyword argument 'path'\n",
            "Mendownload data untuk RMKE.JK...\n"
          ]
        },
        {
          "output_type": "stream",
          "name": "stderr",
          "text": [
            "\n",
            "[*********************100%***********************]  1 of 1 completed\n",
            "[*********************100%***********************]  1 of 1 completed"
          ]
        },
        {
          "output_type": "stream",
          "name": "stdout",
          "text": [
            "Terjadi kesalahan saat mendownload RMKE.JK: download() got an unexpected keyword argument 'path'\n",
            "Mendownload data untuk GEMS.JK...\n"
          ]
        },
        {
          "output_type": "stream",
          "name": "stderr",
          "text": [
            "\n"
          ]
        },
        {
          "output_type": "stream",
          "name": "stdout",
          "text": [
            "Terjadi kesalahan saat mendownload GEMS.JK: download() got an unexpected keyword argument 'path'\n",
            "Mendownload data untuk ALDO.JK...\n"
          ]
        },
        {
          "output_type": "stream",
          "name": "stderr",
          "text": [
            "\r[*********************100%***********************]  1 of 1 completed\n"
          ]
        },
        {
          "output_type": "stream",
          "name": "stdout",
          "text": [
            "Terjadi kesalahan saat mendownload ALDO.JK: download() got an unexpected keyword argument 'path'\n",
            "Mendownload data untuk LION.JK...\n"
          ]
        },
        {
          "output_type": "stream",
          "name": "stderr",
          "text": [
            "[*********************100%***********************]  1 of 1 completed\n",
            "[*********************100%***********************]  1 of 1 completed\n"
          ]
        },
        {
          "output_type": "stream",
          "name": "stdout",
          "text": [
            "Terjadi kesalahan saat mendownload LION.JK: download() got an unexpected keyword argument 'path'\n",
            "Mendownload data untuk MINA.JK...\n",
            "Terjadi kesalahan saat mendownload MINA.JK: download() got an unexpected keyword argument 'path'\n",
            "Mendownload data untuk DSFI.JK...\n"
          ]
        },
        {
          "output_type": "stream",
          "name": "stderr",
          "text": [
            "[*********************100%***********************]  1 of 1 completed\n",
            "[*********************100%***********************]  1 of 1 completed\n"
          ]
        },
        {
          "output_type": "stream",
          "name": "stdout",
          "text": [
            "Terjadi kesalahan saat mendownload DSFI.JK: download() got an unexpected keyword argument 'path'\n",
            "Mendownload data untuk BELI.JK...\n",
            "Terjadi kesalahan saat mendownload BELI.JK: download() got an unexpected keyword argument 'path'\n",
            "Mendownload data untuk FUTR.JK...\n"
          ]
        },
        {
          "output_type": "stream",
          "name": "stderr",
          "text": [
            "[*********************100%***********************]  1 of 1 completed\n",
            "[*********************100%***********************]  1 of 1 completed\n"
          ]
        },
        {
          "output_type": "stream",
          "name": "stdout",
          "text": [
            "Terjadi kesalahan saat mendownload FUTR.JK: download() got an unexpected keyword argument 'path'\n",
            "Mendownload data untuk CRSN.JK...\n",
            "Terjadi kesalahan saat mendownload CRSN.JK: download() got an unexpected keyword argument 'path'\n",
            "Mendownload data untuk DGIK.JK...\n"
          ]
        },
        {
          "output_type": "stream",
          "name": "stderr",
          "text": [
            "\r[*********************100%***********************]  1 of 1 completed\n"
          ]
        },
        {
          "output_type": "stream",
          "name": "stdout",
          "text": [
            "Terjadi kesalahan saat mendownload DGIK.JK: download() got an unexpected keyword argument 'path'\n",
            "Mendownload data untuk TMAS.JK...\n"
          ]
        },
        {
          "output_type": "stream",
          "name": "stderr",
          "text": [
            "[*********************100%***********************]  1 of 1 completed\n",
            "[*********************100%***********************]  1 of 1 completed\n"
          ]
        },
        {
          "output_type": "stream",
          "name": "stdout",
          "text": [
            "Terjadi kesalahan saat mendownload TMAS.JK: download() got an unexpected keyword argument 'path'\n",
            "Mendownload data untuk ASLC.JK...\n",
            "Terjadi kesalahan saat mendownload ASLC.JK: download() got an unexpected keyword argument 'path'\n",
            "Mendownload data untuk MAIN.JK...\n"
          ]
        },
        {
          "output_type": "stream",
          "name": "stderr",
          "text": [
            "[*********************100%***********************]  1 of 1 completed\n",
            "[*********************100%***********************]  1 of 1 completed\n"
          ]
        },
        {
          "output_type": "stream",
          "name": "stdout",
          "text": [
            "Terjadi kesalahan saat mendownload MAIN.JK: download() got an unexpected keyword argument 'path'\n",
            "Mendownload data untuk BIKE.JK...\n",
            "Terjadi kesalahan saat mendownload BIKE.JK: download() got an unexpected keyword argument 'path'\n",
            "Mendownload data untuk SONA.JK...\n"
          ]
        },
        {
          "output_type": "stream",
          "name": "stderr",
          "text": [
            "[*********************100%***********************]  1 of 1 completed\n",
            "[*********************100%***********************]  1 of 1 completed\n"
          ]
        },
        {
          "output_type": "stream",
          "name": "stdout",
          "text": [
            "Terjadi kesalahan saat mendownload SONA.JK: download() got an unexpected keyword argument 'path'\n",
            "Mendownload data untuk TRON.JK...\n",
            "Terjadi kesalahan saat mendownload TRON.JK: download() got an unexpected keyword argument 'path'\n",
            "Mendownload data untuk CRAB.JK...\n"
          ]
        },
        {
          "output_type": "stream",
          "name": "stderr",
          "text": [
            "\r[*********************100%***********************]  1 of 1 completed\n"
          ]
        },
        {
          "output_type": "stream",
          "name": "stdout",
          "text": [
            "Terjadi kesalahan saat mendownload CRAB.JK: download() got an unexpected keyword argument 'path'\n",
            "Mendownload data untuk MTLA.JK...\n"
          ]
        },
        {
          "output_type": "stream",
          "name": "stderr",
          "text": [
            "[*********************100%***********************]  1 of 1 completed\n",
            "[*********************100%***********************]  1 of 1 completed"
          ]
        },
        {
          "output_type": "stream",
          "name": "stdout",
          "text": [
            "Terjadi kesalahan saat mendownload MTLA.JK: download() got an unexpected keyword argument 'path'\n",
            "Mendownload data untuk BLES.JK...\n",
            "Terjadi kesalahan saat mendownload BLES.JK: download() got an unexpected keyword argument 'path'\n",
            "Mendownload data untuk MKPI.JK...\n"
          ]
        },
        {
          "output_type": "stream",
          "name": "stderr",
          "text": [
            "\n",
            "[*********************100%***********************]  1 of 1 completed\n"
          ]
        },
        {
          "output_type": "stream",
          "name": "stdout",
          "text": [
            "Terjadi kesalahan saat mendownload MKPI.JK: download() got an unexpected keyword argument 'path'\n",
            "Mendownload data untuk KOBX.JK...\n"
          ]
        },
        {
          "output_type": "stream",
          "name": "stderr",
          "text": [
            "\r[*********************100%***********************]  1 of 1 completed\n"
          ]
        },
        {
          "output_type": "stream",
          "name": "stdout",
          "text": [
            "Terjadi kesalahan saat mendownload KOBX.JK: download() got an unexpected keyword argument 'path'\n",
            "Mendownload data untuk ASRI.JK...\n"
          ]
        },
        {
          "output_type": "stream",
          "name": "stderr",
          "text": [
            "[*********************100%***********************]  1 of 1 completed\n",
            "[*********************100%***********************]  1 of 1 completed\n"
          ]
        },
        {
          "output_type": "stream",
          "name": "stdout",
          "text": [
            "Terjadi kesalahan saat mendownload ASRI.JK: download() got an unexpected keyword argument 'path'\n",
            "Mendownload data untuk CNMA.JK...\n",
            "Terjadi kesalahan saat mendownload CNMA.JK: download() got an unexpected keyword argument 'path'\n",
            "Mendownload data untuk GULA.JK...\n"
          ]
        },
        {
          "output_type": "stream",
          "name": "stderr",
          "text": [
            "[*********************100%***********************]  1 of 1 completed\n",
            "[*********************100%***********************]  1 of 1 completed\n"
          ]
        },
        {
          "output_type": "stream",
          "name": "stdout",
          "text": [
            "Terjadi kesalahan saat mendownload GULA.JK: download() got an unexpected keyword argument 'path'\n",
            "Mendownload data untuk MMIX.JK...\n",
            "Terjadi kesalahan saat mendownload MMIX.JK: download() got an unexpected keyword argument 'path'\n",
            "Mendownload data untuk GOLF.JK...\n"
          ]
        },
        {
          "output_type": "stream",
          "name": "stderr",
          "text": [
            "[*********************100%***********************]  1 of 1 completed\n",
            "[*********************100%***********************]  1 of 1 completed\n"
          ]
        },
        {
          "output_type": "stream",
          "name": "stdout",
          "text": [
            "Terjadi kesalahan saat mendownload GOLF.JK: download() got an unexpected keyword argument 'path'\n",
            "Mendownload data untuk OILS.JK...\n",
            "Terjadi kesalahan saat mendownload OILS.JK: download() got an unexpected keyword argument 'path'\n",
            "Mendownload data untuk PDPP.JK...\n"
          ]
        },
        {
          "output_type": "stream",
          "name": "stderr",
          "text": [
            "\r[*********************100%***********************]  1 of 1 completed\n"
          ]
        },
        {
          "output_type": "stream",
          "name": "stdout",
          "text": [
            "Terjadi kesalahan saat mendownload PDPP.JK: download() got an unexpected keyword argument 'path'\n",
            "Mendownload data untuk MTDL.JK...\n"
          ]
        },
        {
          "output_type": "stream",
          "name": "stderr",
          "text": [
            "[*********************100%***********************]  1 of 1 completed\n",
            "[*********************100%***********************]  1 of 1 completed"
          ]
        },
        {
          "output_type": "stream",
          "name": "stdout",
          "text": [
            "Terjadi kesalahan saat mendownload MTDL.JK: download() got an unexpected keyword argument 'path'\n",
            "Mendownload data untuk PNBS.JK...\n"
          ]
        },
        {
          "output_type": "stream",
          "name": "stderr",
          "text": [
            "\n"
          ]
        },
        {
          "output_type": "stream",
          "name": "stdout",
          "text": [
            "Terjadi kesalahan saat mendownload PNBS.JK: download() got an unexpected keyword argument 'path'\n",
            "Mendownload data untuk DIVA.JK...\n"
          ]
        },
        {
          "output_type": "stream",
          "name": "stderr",
          "text": [
            "[*********************100%***********************]  1 of 1 completed\n",
            "[*********************100%***********************]  1 of 1 completed\n"
          ]
        },
        {
          "output_type": "stream",
          "name": "stdout",
          "text": [
            "Terjadi kesalahan saat mendownload DIVA.JK: download() got an unexpected keyword argument 'path'\n",
            "Mendownload data untuk SURI.JK...\n",
            "Terjadi kesalahan saat mendownload SURI.JK: download() got an unexpected keyword argument 'path'\n",
            "Mendownload data untuk CSRA.JK...\n"
          ]
        },
        {
          "output_type": "stream",
          "name": "stderr",
          "text": [
            "[*********************100%***********************]  1 of 1 completed\n",
            "[*********************100%***********************]  1 of 1 completed\n"
          ]
        },
        {
          "output_type": "stream",
          "name": "stdout",
          "text": [
            "Terjadi kesalahan saat mendownload CSRA.JK: download() got an unexpected keyword argument 'path'\n",
            "Mendownload data untuk MKAP.JK...\n",
            "Terjadi kesalahan saat mendownload MKAP.JK: download() got an unexpected keyword argument 'path'\n",
            "Mendownload data untuk ANJT.JK...\n"
          ]
        },
        {
          "output_type": "stream",
          "name": "stderr",
          "text": [
            "[*********************100%***********************]  1 of 1 completed\n",
            "[*********************100%***********************]  1 of 1 completed\n"
          ]
        },
        {
          "output_type": "stream",
          "name": "stdout",
          "text": [
            "Terjadi kesalahan saat mendownload ANJT.JK: download() got an unexpected keyword argument 'path'\n",
            "Mendownload data untuk KLAS.JK...\n",
            "Terjadi kesalahan saat mendownload KLAS.JK: download() got an unexpected keyword argument 'path'\n",
            "Mendownload data untuk BCIP.JK...\n"
          ]
        },
        {
          "output_type": "stream",
          "name": "stderr",
          "text": [
            "[*********************100%***********************]  1 of 1 completed\n",
            "[*********************100%***********************]  1 of 1 completed\n"
          ]
        },
        {
          "output_type": "stream",
          "name": "stdout",
          "text": [
            "Terjadi kesalahan saat mendownload BCIP.JK: download() got an unexpected keyword argument 'path'\n",
            "Mendownload data untuk SGER.JK...\n",
            "Terjadi kesalahan saat mendownload SGER.JK: download() got an unexpected keyword argument 'path'\n",
            "Mendownload data untuk KEEN.JK...\n"
          ]
        },
        {
          "output_type": "stream",
          "name": "stderr",
          "text": [
            "[*********************100%***********************]  1 of 1 completed\n",
            "[*********************100%***********************]  1 of 1 completed\n"
          ]
        },
        {
          "output_type": "stream",
          "name": "stdout",
          "text": [
            "Terjadi kesalahan saat mendownload KEEN.JK: download() got an unexpected keyword argument 'path'\n",
            "Mendownload data untuk PSGO.JK...\n",
            "Terjadi kesalahan saat mendownload PSGO.JK: download() got an unexpected keyword argument 'path'\n",
            "Mendownload data untuk PTPS.JK...\n"
          ]
        },
        {
          "output_type": "stream",
          "name": "stderr",
          "text": [
            "[*********************100%***********************]  1 of 1 completed\n",
            "[*********************100%***********************]  1 of 1 completed\n"
          ]
        },
        {
          "output_type": "stream",
          "name": "stdout",
          "text": [
            "Terjadi kesalahan saat mendownload PTPS.JK: download() got an unexpected keyword argument 'path'\n",
            "Mendownload data untuk SKBM.JK...\n"
          ]
        },
        {
          "output_type": "stream",
          "name": "stderr",
          "text": [
            "\r[*********************100%***********************]  1 of 1 completed"
          ]
        },
        {
          "output_type": "stream",
          "name": "stdout",
          "text": [
            "Terjadi kesalahan saat mendownload SKBM.JK: download() got an unexpected keyword argument 'path'\n",
            "Mendownload data untuk NELY.JK...\n"
          ]
        },
        {
          "output_type": "stream",
          "name": "stderr",
          "text": [
            "\n",
            "[*********************100%***********************]  1 of 1 completed"
          ]
        },
        {
          "output_type": "stream",
          "name": "stdout",
          "text": [
            "Terjadi kesalahan saat mendownload NELY.JK: download() got an unexpected keyword argument 'path'\n",
            "Mendownload data untuk BALI.JK...\n"
          ]
        },
        {
          "output_type": "stream",
          "name": "stderr",
          "text": [
            "\n"
          ]
        },
        {
          "output_type": "stream",
          "name": "stdout",
          "text": [
            "Terjadi kesalahan saat mendownload BALI.JK: download() got an unexpected keyword argument 'path'\n",
            "Mendownload data untuk ULTJ.JK...\n"
          ]
        },
        {
          "output_type": "stream",
          "name": "stderr",
          "text": [
            "\r[*********************100%***********************]  1 of 1 completed\n"
          ]
        },
        {
          "output_type": "stream",
          "name": "stdout",
          "text": [
            "Terjadi kesalahan saat mendownload ULTJ.JK: download() got an unexpected keyword argument 'path'\n",
            "Mendownload data untuk RALS.JK...\n"
          ]
        },
        {
          "output_type": "stream",
          "name": "stderr",
          "text": [
            "[*********************100%***********************]  1 of 1 completed\n",
            "[*********************100%***********************]  1 of 1 completed"
          ]
        },
        {
          "output_type": "stream",
          "name": "stdout",
          "text": [
            "Terjadi kesalahan saat mendownload RALS.JK: download() got an unexpected keyword argument 'path'\n",
            "Mendownload data untuk MCOL.JK...\n",
            "Terjadi kesalahan saat mendownload MCOL.JK: download() got an unexpected keyword argument 'path'\n",
            "Mendownload data untuk APLN.JK...\n"
          ]
        },
        {
          "output_type": "stream",
          "name": "stderr",
          "text": [
            "\n",
            "\r[*********************100%***********************]  1 of 1 completed\n"
          ]
        },
        {
          "output_type": "stream",
          "name": "stdout",
          "text": [
            "Terjadi kesalahan saat mendownload APLN.JK: download() got an unexpected keyword argument 'path'\n",
            "Mendownload data untuk VOKS.JK...\n"
          ]
        },
        {
          "output_type": "stream",
          "name": "stderr",
          "text": [
            "[*********************100%***********************]  1 of 1 completed\n",
            "[*********************100%***********************]  1 of 1 completed\n"
          ]
        },
        {
          "output_type": "stream",
          "name": "stdout",
          "text": [
            "Terjadi kesalahan saat mendownload VOKS.JK: download() got an unexpected keyword argument 'path'\n",
            "Mendownload data untuk ELIT.JK...\n",
            "Terjadi kesalahan saat mendownload ELIT.JK: download() got an unexpected keyword argument 'path'\n",
            "Mendownload data untuk CITA.JK...\n"
          ]
        },
        {
          "output_type": "stream",
          "name": "stderr",
          "text": [
            "[*********************100%***********************]  1 of 1 completed\n",
            "[*********************100%***********************]  1 of 1 completed\n"
          ]
        },
        {
          "output_type": "stream",
          "name": "stdout",
          "text": [
            "Terjadi kesalahan saat mendownload CITA.JK: download() got an unexpected keyword argument 'path'\n",
            "Mendownload data untuk GIAA.JK...\n",
            "Terjadi kesalahan saat mendownload GIAA.JK: download() got an unexpected keyword argument 'path'\n",
            "Mendownload data untuk NICL.JK...\n"
          ]
        },
        {
          "output_type": "stream",
          "name": "stderr",
          "text": [
            "\r[*********************100%***********************]  1 of 1 completed\n"
          ]
        },
        {
          "output_type": "stream",
          "name": "stdout",
          "text": [
            "Terjadi kesalahan saat mendownload NICL.JK: download() got an unexpected keyword argument 'path'\n",
            "Mendownload data untuk ASGR.JK...\n"
          ]
        },
        {
          "output_type": "stream",
          "name": "stderr",
          "text": [
            "\r[*********************100%***********************]  1 of 1 completed\n"
          ]
        },
        {
          "output_type": "stream",
          "name": "stdout",
          "text": [
            "Terjadi kesalahan saat mendownload ASGR.JK: download() got an unexpected keyword argument 'path'\n",
            "Mendownload data untuk RIGS.JK...\n"
          ]
        },
        {
          "output_type": "stream",
          "name": "stderr",
          "text": [
            "\r[*********************100%***********************]  1 of 1 completed\n"
          ]
        },
        {
          "output_type": "stream",
          "name": "stdout",
          "text": [
            "Terjadi kesalahan saat mendownload RIGS.JK: download() got an unexpected keyword argument 'path'\n",
            "Mendownload data untuk SMBR.JK...\n"
          ]
        },
        {
          "output_type": "stream",
          "name": "stderr",
          "text": [
            "[*********************100%***********************]  1 of 1 completed\n",
            "[*********************100%***********************]  1 of 1 completed\n"
          ]
        },
        {
          "output_type": "stream",
          "name": "stdout",
          "text": [
            "Terjadi kesalahan saat mendownload SMBR.JK: download() got an unexpected keyword argument 'path'\n",
            "Mendownload data untuk MPOW.JK...\n"
          ]
        },
        {
          "output_type": "stream",
          "name": "stderr",
          "text": [
            "\r[*********************100%***********************]  1 of 1 completed"
          ]
        },
        {
          "output_type": "stream",
          "name": "stdout",
          "text": [
            "Terjadi kesalahan saat mendownload MPOW.JK: download() got an unexpected keyword argument 'path'\n",
            "Mendownload data untuk ECII.JK...\n"
          ]
        },
        {
          "output_type": "stream",
          "name": "stderr",
          "text": [
            "\n",
            "[*********************100%***********************]  1 of 1 completed"
          ]
        },
        {
          "output_type": "stream",
          "name": "stdout",
          "text": [
            "Terjadi kesalahan saat mendownload ECII.JK: download() got an unexpected keyword argument 'path'\n",
            "Mendownload data untuk BIMA.JK...\n"
          ]
        },
        {
          "output_type": "stream",
          "name": "stderr",
          "text": [
            "\n",
            "\r[*********************100%***********************]  1 of 1 completed\n"
          ]
        },
        {
          "output_type": "stream",
          "name": "stdout",
          "text": [
            "Terjadi kesalahan saat mendownload BIMA.JK: download() got an unexpected keyword argument 'path'\n",
            "Mendownload data untuk PTMR.JK...\n",
            "Terjadi kesalahan saat mendownload PTMR.JK: download() got an unexpected keyword argument 'path'\n",
            "Mendownload data untuk PALM.JK...\n"
          ]
        },
        {
          "output_type": "stream",
          "name": "stderr",
          "text": [
            "[*********************100%***********************]  1 of 1 completed\n",
            "[*********************100%***********************]  1 of 1 completed\n"
          ]
        },
        {
          "output_type": "stream",
          "name": "stdout",
          "text": [
            "Terjadi kesalahan saat mendownload PALM.JK: download() got an unexpected keyword argument 'path'\n",
            "Mendownload data untuk OBMD.JK...\n",
            "Terjadi kesalahan saat mendownload OBMD.JK: download() got an unexpected keyword argument 'path'\n",
            "Mendownload data untuk PGLI.JK...\n"
          ]
        },
        {
          "output_type": "stream",
          "name": "stderr",
          "text": [
            "[*********************100%***********************]  1 of 1 completed\n",
            "[*********************100%***********************]  1 of 1 completed\n"
          ]
        },
        {
          "output_type": "stream",
          "name": "stdout",
          "text": [
            "Terjadi kesalahan saat mendownload PGLI.JK: download() got an unexpected keyword argument 'path'\n",
            "Mendownload data untuk MMLP.JK...\n",
            "Terjadi kesalahan saat mendownload MMLP.JK: download() got an unexpected keyword argument 'path'\n",
            "Mendownload data untuk AGAR.JK...\n"
          ]
        },
        {
          "output_type": "stream",
          "name": "stderr",
          "text": [
            "[*********************100%***********************]  1 of 1 completed\n",
            "[*********************100%***********************]  1 of 1 completed\n"
          ]
        },
        {
          "output_type": "stream",
          "name": "stdout",
          "text": [
            "Terjadi kesalahan saat mendownload AGAR.JK: download() got an unexpected keyword argument 'path'\n",
            "Mendownload data untuk MCAS.JK...\n",
            "Terjadi kesalahan saat mendownload MCAS.JK: download() got an unexpected keyword argument 'path'\n",
            "Mendownload data untuk JKON.JK...\n"
          ]
        },
        {
          "output_type": "stream",
          "name": "stderr",
          "text": [
            "[*********************100%***********************]  1 of 1 completed\n",
            "[*********************100%***********************]  1 of 1 completed\n"
          ]
        },
        {
          "output_type": "stream",
          "name": "stdout",
          "text": [
            "Terjadi kesalahan saat mendownload JKON.JK: download() got an unexpected keyword argument 'path'\n",
            "Mendownload data untuk MPXL.JK...\n",
            "Terjadi kesalahan saat mendownload MPXL.JK: download() got an unexpected keyword argument 'path'\n",
            "Mendownload data untuk MAXI.JK...\n"
          ]
        },
        {
          "output_type": "stream",
          "name": "stderr",
          "text": [
            "\r[*********************100%***********************]  1 of 1 completed\n"
          ]
        },
        {
          "output_type": "stream",
          "name": "stdout",
          "text": [
            "Terjadi kesalahan saat mendownload MAXI.JK: download() got an unexpected keyword argument 'path'\n",
            "Mendownload data untuk LTLS.JK...\n"
          ]
        },
        {
          "output_type": "stream",
          "name": "stderr",
          "text": [
            "[*********************100%***********************]  1 of 1 completed\n",
            "[*********************100%***********************]  1 of 1 completed\n"
          ]
        },
        {
          "output_type": "stream",
          "name": "stdout",
          "text": [
            "Terjadi kesalahan saat mendownload LTLS.JK: download() got an unexpected keyword argument 'path'\n",
            "Mendownload data untuk MORA.JK...\n",
            "Terjadi kesalahan saat mendownload MORA.JK: download() got an unexpected keyword argument 'path'\n",
            "Mendownload data untuk IPCC.JK...\n"
          ]
        },
        {
          "output_type": "stream",
          "name": "stderr",
          "text": [
            "[*********************100%***********************]  1 of 1 completed\n",
            "[*********************100%***********************]  1 of 1 completed\n"
          ]
        },
        {
          "output_type": "stream",
          "name": "stdout",
          "text": [
            "Terjadi kesalahan saat mendownload IPCC.JK: download() got an unexpected keyword argument 'path'\n",
            "Mendownload data untuk DATA.JK...\n",
            "Terjadi kesalahan saat mendownload DATA.JK: download() got an unexpected keyword argument 'path'\n",
            "Mendownload data untuk KMDS.JK...\n"
          ]
        },
        {
          "output_type": "stream",
          "name": "stderr",
          "text": [
            "[*********************100%***********************]  1 of 1 completed\n",
            "[*********************100%***********************]  1 of 1 completed"
          ]
        },
        {
          "output_type": "stream",
          "name": "stdout",
          "text": [
            "Terjadi kesalahan saat mendownload KMDS.JK: download() got an unexpected keyword argument 'path'\n",
            "Mendownload data untuk HALO.JK...\n",
            "Terjadi kesalahan saat mendownload HALO.JK: download() got an unexpected keyword argument 'path'\n",
            "Mendownload data untuk PEVE.JK...\n"
          ]
        },
        {
          "output_type": "stream",
          "name": "stderr",
          "text": [
            "\n",
            "[*********************100%***********************]  1 of 1 completed\n",
            "[*********************100%***********************]  1 of 1 completed\n"
          ]
        },
        {
          "output_type": "stream",
          "name": "stdout",
          "text": [
            "Terjadi kesalahan saat mendownload PEVE.JK: download() got an unexpected keyword argument 'path'\n",
            "Mendownload data untuk RAAM.JK...\n",
            "Terjadi kesalahan saat mendownload RAAM.JK: download() got an unexpected keyword argument 'path'\n",
            "Mendownload data untuk UFOE.JK...\n"
          ]
        },
        {
          "output_type": "stream",
          "name": "stderr",
          "text": [
            "\r[*********************100%***********************]  1 of 1 completed\n"
          ]
        },
        {
          "output_type": "stream",
          "name": "stdout",
          "text": [
            "Terjadi kesalahan saat mendownload UFOE.JK: download() got an unexpected keyword argument 'path'\n",
            "Mendownload data untuk FORU.JK...\n"
          ]
        },
        {
          "output_type": "stream",
          "name": "stderr",
          "text": [
            "[*********************100%***********************]  1 of 1 completed\n",
            "[*********************100%***********************]  1 of 1 completed"
          ]
        },
        {
          "output_type": "stream",
          "name": "stdout",
          "text": [
            "Terjadi kesalahan saat mendownload FORU.JK: download() got an unexpected keyword argument 'path'\n",
            "Mendownload data untuk GOOD.JK...\n"
          ]
        },
        {
          "output_type": "stream",
          "name": "stderr",
          "text": [
            "\n",
            "[*********************100%***********************]  1 of 1 completed"
          ]
        },
        {
          "output_type": "stream",
          "name": "stdout",
          "text": [
            "Terjadi kesalahan saat mendownload GOOD.JK: download() got an unexpected keyword argument 'path'\n",
            "Mendownload data untuk WTON.JK...\n"
          ]
        },
        {
          "output_type": "stream",
          "name": "stderr",
          "text": [
            "\n",
            "\r[*********************100%***********************]  1 of 1 completed\n"
          ]
        },
        {
          "output_type": "stream",
          "name": "stdout",
          "text": [
            "Terjadi kesalahan saat mendownload WTON.JK: download() got an unexpected keyword argument 'path'\n",
            "Mendownload data untuk GUNA.JK...\n",
            "Terjadi kesalahan saat mendownload GUNA.JK: download() got an unexpected keyword argument 'path'\n",
            "Mendownload data untuk SGRO.JK...\n"
          ]
        },
        {
          "output_type": "stream",
          "name": "stderr",
          "text": [
            "[*********************100%***********************]  1 of 1 completed\n",
            "[*********************100%***********************]  1 of 1 completed"
          ]
        },
        {
          "output_type": "stream",
          "name": "stdout",
          "text": [
            "Terjadi kesalahan saat mendownload SGRO.JK: download() got an unexpected keyword argument 'path'\n",
            "Mendownload data untuk CAMP.JK...\n"
          ]
        },
        {
          "output_type": "stream",
          "name": "stderr",
          "text": [
            "\n",
            "[*********************100%***********************]  1 of 1 completed"
          ]
        },
        {
          "output_type": "stream",
          "name": "stdout",
          "text": [
            "Terjadi kesalahan saat mendownload CAMP.JK: download() got an unexpected keyword argument 'path'\n",
            "Mendownload data untuk SOCI.JK...\n"
          ]
        },
        {
          "output_type": "stream",
          "name": "stderr",
          "text": [
            "\n",
            "[*********************100%***********************]  1 of 1 completed"
          ]
        },
        {
          "output_type": "stream",
          "name": "stdout",
          "text": [
            "Terjadi kesalahan saat mendownload SOCI.JK: download() got an unexpected keyword argument 'path'\n",
            "Mendownload data untuk PBSA.JK...\n"
          ]
        },
        {
          "output_type": "stream",
          "name": "stderr",
          "text": [
            "\n",
            "[*********************100%***********************]  1 of 1 completed\n"
          ]
        },
        {
          "output_type": "stream",
          "name": "stdout",
          "text": [
            "Terjadi kesalahan saat mendownload PBSA.JK: download() got an unexpected keyword argument 'path'\n",
            "Mendownload data untuk VICI.JK...\n",
            "Terjadi kesalahan saat mendownload VICI.JK: download() got an unexpected keyword argument 'path'"
          ]
        },
        {
          "output_type": "stream",
          "name": "stderr",
          "text": [
            "\r[*********************100%***********************]  1 of 1 completed\n"
          ]
        },
        {
          "output_type": "stream",
          "name": "stdout",
          "text": [
            "\n",
            "Mendownload data untuk WOOD.JK...\n",
            "Terjadi kesalahan saat mendownload WOOD.JK: download() got an unexpected keyword argument 'path'\n",
            "Mendownload data untuk ACST.JK...\n"
          ]
        },
        {
          "output_type": "stream",
          "name": "stderr",
          "text": [
            "[*********************100%***********************]  1 of 1 completed\n",
            "[*********************100%***********************]  1 of 1 completed"
          ]
        },
        {
          "output_type": "stream",
          "name": "stdout",
          "text": [
            "Terjadi kesalahan saat mendownload ACST.JK: download() got an unexpected keyword argument 'path'\n",
            "Mendownload data untuk BINO.JK...\n",
            "Terjadi kesalahan saat mendownload BINO.JK: download() got an unexpected keyword argument 'path'\n",
            "Mendownload data untuk WOWS.JK...\n"
          ]
        },
        {
          "output_type": "stream",
          "name": "stderr",
          "text": [
            "\n",
            "[*********************100%***********************]  1 of 1 completed\n",
            "[*********************100%***********************]  1 of 1 completed\n"
          ]
        },
        {
          "output_type": "stream",
          "name": "stdout",
          "text": [
            "Terjadi kesalahan saat mendownload WOWS.JK: download() got an unexpected keyword argument 'path'\n",
            "Mendownload data untuk IRRA.JK...\n",
            "Terjadi kesalahan saat mendownload IRRA.JK: download() got an unexpected keyword argument 'path'"
          ]
        },
        {
          "output_type": "stream",
          "name": "stderr",
          "text": [
            "\r[*********************100%***********************]  1 of 1 completed"
          ]
        },
        {
          "output_type": "stream",
          "name": "stdout",
          "text": [
            "\n",
            "Mendownload data untuk TAXI.JK...\n"
          ]
        },
        {
          "output_type": "stream",
          "name": "stderr",
          "text": [
            "\n"
          ]
        },
        {
          "output_type": "stream",
          "name": "stdout",
          "text": [
            "Terjadi kesalahan saat mendownload TAXI.JK: download() got an unexpected keyword argument 'path'\n",
            "Mendownload data untuk GDYR.JK...\n"
          ]
        },
        {
          "output_type": "stream",
          "name": "stderr",
          "text": [
            "[*********************100%***********************]  1 of 1 completed\n",
            "[*********************100%***********************]  1 of 1 completed\n"
          ]
        },
        {
          "output_type": "stream",
          "name": "stdout",
          "text": [
            "Terjadi kesalahan saat mendownload GDYR.JK: download() got an unexpected keyword argument 'path'\n",
            "Mendownload data untuk PTMP.JK...\n",
            "Terjadi kesalahan saat mendownload PTMP.JK: download() got an unexpected keyword argument 'path'\n",
            "Mendownload data untuk RISE.JK...\n"
          ]
        },
        {
          "output_type": "stream",
          "name": "stderr",
          "text": [
            "\r[*********************100%***********************]  1 of 1 completed\n"
          ]
        },
        {
          "output_type": "stream",
          "name": "stdout",
          "text": [
            "Terjadi kesalahan saat mendownload RISE.JK: download() got an unexpected keyword argument 'path'\n",
            "Mendownload data untuk SMDM.JK...\n"
          ]
        },
        {
          "output_type": "stream",
          "name": "stderr",
          "text": [
            "\r[*********************100%***********************]  1 of 1 completed\n"
          ]
        },
        {
          "output_type": "stream",
          "name": "stdout",
          "text": [
            "Terjadi kesalahan saat mendownload SMDM.JK: download() got an unexpected keyword argument 'path'\n",
            "Mendownload data untuk BNBR.JK...\n"
          ]
        },
        {
          "output_type": "stream",
          "name": "stderr",
          "text": [
            "\r[*********************100%***********************]  1 of 1 completed\n"
          ]
        },
        {
          "output_type": "stream",
          "name": "stdout",
          "text": [
            "Terjadi kesalahan saat mendownload BNBR.JK: download() got an unexpected keyword argument 'path'\n",
            "Mendownload data untuk CEKA.JK...\n"
          ]
        },
        {
          "output_type": "stream",
          "name": "stderr",
          "text": [
            "[*********************100%***********************]  1 of 1 completed\n",
            "[*********************100%***********************]  1 of 1 completed\n"
          ]
        },
        {
          "output_type": "stream",
          "name": "stdout",
          "text": [
            "Terjadi kesalahan saat mendownload CEKA.JK: download() got an unexpected keyword argument 'path'\n",
            "Mendownload data untuk IRSX.JK...\n",
            "Terjadi kesalahan saat mendownload IRSX.JK: download() got an unexpected keyword argument 'path'\n",
            "Mendownload data untuk PAMG.JK...\n"
          ]
        },
        {
          "output_type": "stream",
          "name": "stderr",
          "text": [
            "[*********************100%***********************]  1 of 1 completed\n",
            "[*********************100%***********************]  1 of 1 completed\n"
          ]
        },
        {
          "output_type": "stream",
          "name": "stdout",
          "text": [
            "Terjadi kesalahan saat mendownload PAMG.JK: download() got an unexpected keyword argument 'path'\n",
            "Mendownload data untuk LIVE.JK...\n",
            "Terjadi kesalahan saat mendownload LIVE.JK: download() got an unexpected keyword argument 'path'\n",
            "Mendownload data untuk PRIM.JK...\n"
          ]
        },
        {
          "output_type": "stream",
          "name": "stderr",
          "text": [
            "[*********************100%***********************]  1 of 1 completed\n",
            "[*********************100%***********************]  1 of 1 completed\n"
          ]
        },
        {
          "output_type": "stream",
          "name": "stdout",
          "text": [
            "Terjadi kesalahan saat mendownload PRIM.JK: download() got an unexpected keyword argument 'path'\n",
            "Mendownload data untuk CITY.JK...\n",
            "Terjadi kesalahan saat mendownload CITY.JK: download() got an unexpected keyword argument 'path'\n",
            "Mendownload data untuk SPTO.JK...\n"
          ]
        },
        {
          "output_type": "stream",
          "name": "stderr",
          "text": [
            "[*********************100%***********************]  1 of 1 completed\n",
            "[*********************100%***********************]  1 of 1 completed\n"
          ]
        },
        {
          "output_type": "stream",
          "name": "stdout",
          "text": [
            "Terjadi kesalahan saat mendownload SPTO.JK: download() got an unexpected keyword argument 'path'\n",
            "Mendownload data untuk MHKI.JK...\n",
            "Terjadi kesalahan saat mendownload MHKI.JK: download() got an unexpected keyword argument 'path'\n",
            "Mendownload data untuk BEEF.JK...\n"
          ]
        },
        {
          "output_type": "stream",
          "name": "stderr",
          "text": [
            "\r[*********************100%***********************]  1 of 1 completed\n"
          ]
        },
        {
          "output_type": "stream",
          "name": "stdout",
          "text": [
            "Terjadi kesalahan saat mendownload BEEF.JK: download() got an unexpected keyword argument 'path'\n",
            "Mendownload data untuk BISI.JK...\n"
          ]
        },
        {
          "output_type": "stream",
          "name": "stderr",
          "text": [
            "[*********************100%***********************]  1 of 1 completed\n",
            "[*********************100%***********************]  1 of 1 completed\n"
          ]
        },
        {
          "output_type": "stream",
          "name": "stdout",
          "text": [
            "Terjadi kesalahan saat mendownload BISI.JK: download() got an unexpected keyword argument 'path'\n",
            "Mendownload data untuk SRAJ.JK...\n",
            "Terjadi kesalahan saat mendownload SRAJ.JK: download() got an unexpected keyword argument 'path'\n",
            "Mendownload data untuk PBID.JK...\n"
          ]
        },
        {
          "output_type": "stream",
          "name": "stderr",
          "text": [
            "[*********************100%***********************]  1 of 1 completed\n",
            "[*********************100%***********************]  1 of 1 completed\n"
          ]
        },
        {
          "output_type": "stream",
          "name": "stdout",
          "text": [
            "Terjadi kesalahan saat mendownload PBID.JK: download() got an unexpected keyword argument 'path'\n",
            "Mendownload data untuk GRIA.JK...\n",
            "Terjadi kesalahan saat mendownload GRIA.JK: download() got an unexpected keyword argument 'path'\n",
            "Mendownload data untuk JMAS.JK...\n"
          ]
        },
        {
          "output_type": "error",
          "ename": "KeyboardInterrupt",
          "evalue": "",
          "traceback": [
            "\u001b[0;31m---------------------------------------------------------------------------\u001b[0m",
            "\u001b[0;31mKeyboardInterrupt\u001b[0m                         Traceback (most recent call last)",
            "\u001b[0;32m<ipython-input-5-686aeac4d6d0>\u001b[0m in \u001b[0;36m<cell line: 4>\u001b[0;34m()\u001b[0m\n\u001b[1;32m      6\u001b[0m     \u001b[0;32mtry\u001b[0m\u001b[0;34m:\u001b[0m\u001b[0;34m\u001b[0m\u001b[0;34m\u001b[0m\u001b[0m\n\u001b[1;32m      7\u001b[0m         \u001b[0mprint\u001b[0m\u001b[0;34m(\u001b[0m\u001b[0;34mf\"Mendownload data untuk {ticker}...\"\u001b[0m\u001b[0;34m)\u001b[0m\u001b[0;34m\u001b[0m\u001b[0;34m\u001b[0m\u001b[0m\n\u001b[0;32m----> 8\u001b[0;31m         \u001b[0mdata\u001b[0m \u001b[0;34m=\u001b[0m \u001b[0myf\u001b[0m\u001b[0;34m.\u001b[0m\u001b[0mdownload\u001b[0m\u001b[0;34m(\u001b[0m\u001b[0mtickers\u001b[0m\u001b[0;34m=\u001b[0m\u001b[0mticker\u001b[0m\u001b[0;34m,\u001b[0m \u001b[0minterval\u001b[0m\u001b[0;34m=\u001b[0m\u001b[0;34m\"1d\"\u001b[0m\u001b[0;34m,\u001b[0m \u001b[0mperiod\u001b[0m\u001b[0;34m=\u001b[0m\u001b[0;34m\"max\"\u001b[0m\u001b[0;34m)\u001b[0m\u001b[0;34m\u001b[0m\u001b[0;34m\u001b[0m\u001b[0m\n\u001b[0m\u001b[1;32m      9\u001b[0m         \u001b[0mdata\u001b[0m\u001b[0;34m.\u001b[0m\u001b[0mto_csv\u001b[0m\u001b[0;34m(\u001b[0m\u001b[0;34mf\"{ticker}_1d_data.csv\"\u001b[0m\u001b[0;34m)\u001b[0m\u001b[0;34m\u001b[0m\u001b[0;34m\u001b[0m\u001b[0m\n\u001b[1;32m     10\u001b[0m         \u001b[0mfiles\u001b[0m\u001b[0;34m.\u001b[0m\u001b[0mdownload\u001b[0m\u001b[0;34m(\u001b[0m\u001b[0;34mf\"{ticker}_1d_data.csv\"\u001b[0m\u001b[0;34m,\u001b[0m \u001b[0mpath\u001b[0m\u001b[0;34m=\u001b[0m\u001b[0;34m'/content/drive/My Drive/Colab Notebooks/'\u001b[0m\u001b[0;34m)\u001b[0m\u001b[0;34m\u001b[0m\u001b[0;34m\u001b[0m\u001b[0m\n",
            "\u001b[0;32m/usr/local/lib/python3.10/dist-packages/yfinance/utils.py\u001b[0m in \u001b[0;36mwrapper\u001b[0;34m(*args, **kwargs)\u001b[0m\n\u001b[1;32m    102\u001b[0m \u001b[0;34m\u001b[0m\u001b[0m\n\u001b[1;32m    103\u001b[0m         \u001b[0;32mwith\u001b[0m \u001b[0mIndentationContext\u001b[0m\u001b[0;34m(\u001b[0m\u001b[0;34m)\u001b[0m\u001b[0;34m:\u001b[0m\u001b[0;34m\u001b[0m\u001b[0;34m\u001b[0m\u001b[0m\n\u001b[0;32m--> 104\u001b[0;31m             \u001b[0mresult\u001b[0m \u001b[0;34m=\u001b[0m \u001b[0mfunc\u001b[0m\u001b[0;34m(\u001b[0m\u001b[0;34m*\u001b[0m\u001b[0margs\u001b[0m\u001b[0;34m,\u001b[0m \u001b[0;34m**\u001b[0m\u001b[0mkwargs\u001b[0m\u001b[0;34m)\u001b[0m\u001b[0;34m\u001b[0m\u001b[0;34m\u001b[0m\u001b[0m\n\u001b[0m\u001b[1;32m    105\u001b[0m \u001b[0;34m\u001b[0m\u001b[0m\n\u001b[1;32m    106\u001b[0m         \u001b[0mlogger\u001b[0m\u001b[0;34m.\u001b[0m\u001b[0mdebug\u001b[0m\u001b[0;34m(\u001b[0m\u001b[0;34mf'Exiting {func.__name__}()'\u001b[0m\u001b[0;34m)\u001b[0m\u001b[0;34m\u001b[0m\u001b[0;34m\u001b[0m\u001b[0m\n",
            "\u001b[0;32m/usr/local/lib/python3.10/dist-packages/yfinance/multi.py\u001b[0m in \u001b[0;36mdownload\u001b[0;34m(tickers, start, end, actions, threads, ignore_tz, group_by, auto_adjust, back_adjust, repair, keepna, progress, period, interval, prepost, proxy, rounding, timeout, session, multi_level_index)\u001b[0m\n\u001b[1;32m    155\u001b[0m                                    rounding=rounding, timeout=timeout)\n\u001b[1;32m    156\u001b[0m         \u001b[0;32mwhile\u001b[0m \u001b[0mlen\u001b[0m\u001b[0;34m(\u001b[0m\u001b[0mshared\u001b[0m\u001b[0;34m.\u001b[0m\u001b[0m_DFS\u001b[0m\u001b[0;34m)\u001b[0m \u001b[0;34m<\u001b[0m \u001b[0mlen\u001b[0m\u001b[0;34m(\u001b[0m\u001b[0mtickers\u001b[0m\u001b[0;34m)\u001b[0m\u001b[0;34m:\u001b[0m\u001b[0;34m\u001b[0m\u001b[0;34m\u001b[0m\u001b[0m\n\u001b[0;32m--> 157\u001b[0;31m             \u001b[0m_time\u001b[0m\u001b[0;34m.\u001b[0m\u001b[0msleep\u001b[0m\u001b[0;34m(\u001b[0m\u001b[0;36m0.01\u001b[0m\u001b[0;34m)\u001b[0m\u001b[0;34m\u001b[0m\u001b[0;34m\u001b[0m\u001b[0m\n\u001b[0m\u001b[1;32m    158\u001b[0m     \u001b[0;31m# download synchronously\u001b[0m\u001b[0;34m\u001b[0m\u001b[0;34m\u001b[0m\u001b[0m\n\u001b[1;32m    159\u001b[0m     \u001b[0;32melse\u001b[0m\u001b[0;34m:\u001b[0m\u001b[0;34m\u001b[0m\u001b[0;34m\u001b[0m\u001b[0m\n",
            "\u001b[0;31mKeyboardInterrupt\u001b[0m: "
          ]
        }
      ]
    },
    {
      "cell_type": "code",
      "source": [
        "tickers = df\n",
        "print(tickers.head())"
      ],
      "metadata": {
        "colab": {
          "base_uri": "https://localhost:8080/"
        },
        "id": "5CABmmuq84S_",
        "outputId": "2fd29d57-bf4e-4740-e6f2-65093b235e26"
      },
      "execution_count": null,
      "outputs": [
        {
          "output_type": "stream",
          "name": "stdout",
          "text": [
            "    Ticker\n",
            "0  GOTO.JK\n",
            "1  TLKM.JK\n",
            "2  RAJA.JK\n",
            "3  BRMS.JK\n",
            "4  AMMN.JK\n"
          ]
        }
      ]
    },
    {
      "cell_type": "code",
      "source": [
        "\n",
        "import time\n",
        "\n",
        "batch_size = 30\n",
        "for i in range(0, len(tickers), batch_size):\n",
        "    batch = tickers[i:i + batch_size]\n",
        "    print(f\"Memproses batch {i // batch_size + 1}...\")\n",
        "\n",
        "    for ticker in batch:\n",
        "# Iterasi melalui daftar ticker dengan akhiran .JK\n",
        "      try:\n",
        "          # print(f\"Mendownload data untuk {ticker}...\")\n",
        "          data = yf.download(tickers=ticker, interval=\"1d\", period=\"max\")\n",
        "          data.to_csv(f\"{ticker}_1d_data.csv\")\n",
        "          files.download(f\"{ticker}_1d_data.csv\")\n",
        "          # print(f\"Data csv untuk {ticker} berhasil disimpan!\")\n",
        "          # data.to_json(f\"{ticker}_1d_data.json\")\n",
        "          # files.download(f\"{ticker}_1d_data.json\")\n",
        "          # print(f\"Data json untuk {ticker} berhasil disimpan\")\n",
        "      except Exception as e:\n",
        "          print(f\"Terjadi kesalahan saat mendownload {ticker}: {e}\")\n",
        "      time.sleep(3)\n",
        "\n"
      ],
      "metadata": {
        "colab": {
          "base_uri": "https://localhost:8080/",
          "height": 228
        },
        "id": "pvYBz8yY28w1",
        "outputId": "ca574bf6-87ad-409b-dee4-467e664ada96"
      },
      "execution_count": null,
      "outputs": [
        {
          "output_type": "stream",
          "name": "stderr",
          "text": [
            "\r[*********************100%***********************]  1 of 1 completed"
          ]
        },
        {
          "output_type": "stream",
          "name": "stdout",
          "text": [
            "Memproses batch 1...\n"
          ]
        },
        {
          "output_type": "stream",
          "name": "stderr",
          "text": [
            "\n"
          ]
        },
        {
          "output_type": "display_data",
          "data": {
            "text/plain": [
              "<IPython.core.display.Javascript object>"
            ],
            "application/javascript": [
              "\n",
              "    async function download(id, filename, size) {\n",
              "      if (!google.colab.kernel.accessAllowed) {\n",
              "        return;\n",
              "      }\n",
              "      const div = document.createElement('div');\n",
              "      const label = document.createElement('label');\n",
              "      label.textContent = `Downloading \"${filename}\": `;\n",
              "      div.appendChild(label);\n",
              "      const progress = document.createElement('progress');\n",
              "      progress.max = size;\n",
              "      div.appendChild(progress);\n",
              "      document.body.appendChild(div);\n",
              "\n",
              "      const buffers = [];\n",
              "      let downloaded = 0;\n",
              "\n",
              "      const channel = await google.colab.kernel.comms.open(id);\n",
              "      // Send a message to notify the kernel that we're ready.\n",
              "      channel.send({})\n",
              "\n",
              "      for await (const message of channel.messages) {\n",
              "        // Send a message to notify the kernel that we're ready.\n",
              "        channel.send({})\n",
              "        if (message.buffers) {\n",
              "          for (const buffer of message.buffers) {\n",
              "            buffers.push(buffer);\n",
              "            downloaded += buffer.byteLength;\n",
              "            progress.value = downloaded;\n",
              "          }\n",
              "        }\n",
              "      }\n",
              "      const blob = new Blob(buffers, {type: 'application/binary'});\n",
              "      const a = document.createElement('a');\n",
              "      a.href = window.URL.createObjectURL(blob);\n",
              "      a.download = filename;\n",
              "      div.appendChild(a);\n",
              "      a.click();\n",
              "      div.remove();\n",
              "    }\n",
              "  "
            ]
          },
          "metadata": {}
        },
        {
          "output_type": "display_data",
          "data": {
            "text/plain": [
              "<IPython.core.display.Javascript object>"
            ],
            "application/javascript": [
              "download(\"download_87dd879e-75e7-4be9-9bba-f9ca3e194479\", \"GOTO.JK_1d_data.csv\", 32220)"
            ]
          },
          "metadata": {}
        },
        {
          "output_type": "stream",
          "name": "stderr",
          "text": [
            "\r[*********************100%***********************]  1 of 1 completed\n"
          ]
        },
        {
          "output_type": "display_data",
          "data": {
            "text/plain": [
              "<IPython.core.display.Javascript object>"
            ],
            "application/javascript": [
              "\n",
              "    async function download(id, filename, size) {\n",
              "      if (!google.colab.kernel.accessAllowed) {\n",
              "        return;\n",
              "      }\n",
              "      const div = document.createElement('div');\n",
              "      const label = document.createElement('label');\n",
              "      label.textContent = `Downloading \"${filename}\": `;\n",
              "      div.appendChild(label);\n",
              "      const progress = document.createElement('progress');\n",
              "      progress.max = size;\n",
              "      div.appendChild(progress);\n",
              "      document.body.appendChild(div);\n",
              "\n",
              "      const buffers = [];\n",
              "      let downloaded = 0;\n",
              "\n",
              "      const channel = await google.colab.kernel.comms.open(id);\n",
              "      // Send a message to notify the kernel that we're ready.\n",
              "      channel.send({})\n",
              "\n",
              "      for await (const message of channel.messages) {\n",
              "        // Send a message to notify the kernel that we're ready.\n",
              "        channel.send({})\n",
              "        if (message.buffers) {\n",
              "          for (const buffer of message.buffers) {\n",
              "            buffers.push(buffer);\n",
              "            downloaded += buffer.byteLength;\n",
              "            progress.value = downloaded;\n",
              "          }\n",
              "        }\n",
              "      }\n",
              "      const blob = new Blob(buffers, {type: 'application/binary'});\n",
              "      const a = document.createElement('a');\n",
              "      a.href = window.URL.createObjectURL(blob);\n",
              "      a.download = filename;\n",
              "      div.appendChild(a);\n",
              "      a.click();\n",
              "      div.remove();\n",
              "    }\n",
              "  "
            ]
          },
          "metadata": {}
        },
        {
          "output_type": "display_data",
          "data": {
            "text/plain": [
              "<IPython.core.display.Javascript object>"
            ],
            "application/javascript": [
              "download(\"download_13230f98-d3ed-4c2f-b3ee-4f6da14dca13\", \"TLKM.JK_1d_data.csv\", 326525)"
            ]
          },
          "metadata": {}
        },
        {
          "output_type": "stream",
          "name": "stderr",
          "text": [
            "\r[*********************100%***********************]  1 of 1 completed\n"
          ]
        },
        {
          "output_type": "display_data",
          "data": {
            "text/plain": [
              "<IPython.core.display.Javascript object>"
            ],
            "application/javascript": [
              "\n",
              "    async function download(id, filename, size) {\n",
              "      if (!google.colab.kernel.accessAllowed) {\n",
              "        return;\n",
              "      }\n",
              "      const div = document.createElement('div');\n",
              "      const label = document.createElement('label');\n",
              "      label.textContent = `Downloading \"${filename}\": `;\n",
              "      div.appendChild(label);\n",
              "      const progress = document.createElement('progress');\n",
              "      progress.max = size;\n",
              "      div.appendChild(progress);\n",
              "      document.body.appendChild(div);\n",
              "\n",
              "      const buffers = [];\n",
              "      let downloaded = 0;\n",
              "\n",
              "      const channel = await google.colab.kernel.comms.open(id);\n",
              "      // Send a message to notify the kernel that we're ready.\n",
              "      channel.send({})\n",
              "\n",
              "      for await (const message of channel.messages) {\n",
              "        // Send a message to notify the kernel that we're ready.\n",
              "        channel.send({})\n",
              "        if (message.buffers) {\n",
              "          for (const buffer of message.buffers) {\n",
              "            buffers.push(buffer);\n",
              "            downloaded += buffer.byteLength;\n",
              "            progress.value = downloaded;\n",
              "          }\n",
              "        }\n",
              "      }\n",
              "      const blob = new Blob(buffers, {type: 'application/binary'});\n",
              "      const a = document.createElement('a');\n",
              "      a.href = window.URL.createObjectURL(blob);\n",
              "      a.download = filename;\n",
              "      div.appendChild(a);\n",
              "      a.click();\n",
              "      div.remove();\n",
              "    }\n",
              "  "
            ]
          },
          "metadata": {}
        },
        {
          "output_type": "display_data",
          "data": {
            "text/plain": [
              "<IPython.core.display.Javascript object>"
            ],
            "application/javascript": [
              "download(\"download_22132112-b9e0-4de2-a159-d6f8030263c3\", \"RAJA.JK_1d_data.csv\", 441092)"
            ]
          },
          "metadata": {}
        },
        {
          "output_type": "stream",
          "name": "stderr",
          "text": [
            "\r[*********************100%***********************]  1 of 1 completed\n"
          ]
        },
        {
          "output_type": "display_data",
          "data": {
            "text/plain": [
              "<IPython.core.display.Javascript object>"
            ],
            "application/javascript": [
              "\n",
              "    async function download(id, filename, size) {\n",
              "      if (!google.colab.kernel.accessAllowed) {\n",
              "        return;\n",
              "      }\n",
              "      const div = document.createElement('div');\n",
              "      const label = document.createElement('label');\n",
              "      label.textContent = `Downloading \"${filename}\": `;\n",
              "      div.appendChild(label);\n",
              "      const progress = document.createElement('progress');\n",
              "      progress.max = size;\n",
              "      div.appendChild(progress);\n",
              "      document.body.appendChild(div);\n",
              "\n",
              "      const buffers = [];\n",
              "      let downloaded = 0;\n",
              "\n",
              "      const channel = await google.colab.kernel.comms.open(id);\n",
              "      // Send a message to notify the kernel that we're ready.\n",
              "      channel.send({})\n",
              "\n",
              "      for await (const message of channel.messages) {\n",
              "        // Send a message to notify the kernel that we're ready.\n",
              "        channel.send({})\n",
              "        if (message.buffers) {\n",
              "          for (const buffer of message.buffers) {\n",
              "            buffers.push(buffer);\n",
              "            downloaded += buffer.byteLength;\n",
              "            progress.value = downloaded;\n",
              "          }\n",
              "        }\n",
              "      }\n",
              "      const blob = new Blob(buffers, {type: 'application/binary'});\n",
              "      const a = document.createElement('a');\n",
              "      a.href = window.URL.createObjectURL(blob);\n",
              "      a.download = filename;\n",
              "      div.appendChild(a);\n",
              "      a.click();\n",
              "      div.remove();\n",
              "    }\n",
              "  "
            ]
          },
          "metadata": {}
        },
        {
          "output_type": "display_data",
          "data": {
            "text/plain": [
              "<IPython.core.display.Javascript object>"
            ],
            "application/javascript": [
              "download(\"download_acd4fce1-c290-44d3-9811-69c2ee1ce6f4\", \"BRMS.JK_1d_data.csv\", 341642)"
            ]
          },
          "metadata": {}
        },
        {
          "output_type": "stream",
          "name": "stderr",
          "text": [
            "\r[*********************100%***********************]  1 of 1 completed\n"
          ]
        },
        {
          "output_type": "display_data",
          "data": {
            "text/plain": [
              "<IPython.core.display.Javascript object>"
            ],
            "application/javascript": [
              "\n",
              "    async function download(id, filename, size) {\n",
              "      if (!google.colab.kernel.accessAllowed) {\n",
              "        return;\n",
              "      }\n",
              "      const div = document.createElement('div');\n",
              "      const label = document.createElement('label');\n",
              "      label.textContent = `Downloading \"${filename}\": `;\n",
              "      div.appendChild(label);\n",
              "      const progress = document.createElement('progress');\n",
              "      progress.max = size;\n",
              "      div.appendChild(progress);\n",
              "      document.body.appendChild(div);\n",
              "\n",
              "      const buffers = [];\n",
              "      let downloaded = 0;\n",
              "\n",
              "      const channel = await google.colab.kernel.comms.open(id);\n",
              "      // Send a message to notify the kernel that we're ready.\n",
              "      channel.send({})\n",
              "\n",
              "      for await (const message of channel.messages) {\n",
              "        // Send a message to notify the kernel that we're ready.\n",
              "        channel.send({})\n",
              "        if (message.buffers) {\n",
              "          for (const buffer of message.buffers) {\n",
              "            buffers.push(buffer);\n",
              "            downloaded += buffer.byteLength;\n",
              "            progress.value = downloaded;\n",
              "          }\n",
              "        }\n",
              "      }\n",
              "      const blob = new Blob(buffers, {type: 'application/binary'});\n",
              "      const a = document.createElement('a');\n",
              "      a.href = window.URL.createObjectURL(blob);\n",
              "      a.download = filename;\n",
              "      div.appendChild(a);\n",
              "      a.click();\n",
              "      div.remove();\n",
              "    }\n",
              "  "
            ]
          },
          "metadata": {}
        },
        {
          "output_type": "display_data",
          "data": {
            "text/plain": [
              "<IPython.core.display.Javascript object>"
            ],
            "application/javascript": [
              "download(\"download_e90770d1-2dd6-43d8-8094-e5849a2c98e3\", \"AMMN.JK_1d_data.csv\", 20253)"
            ]
          },
          "metadata": {}
        },
        {
          "output_type": "stream",
          "name": "stderr",
          "text": [
            "\r[*********************100%***********************]  1 of 1 completed\n"
          ]
        },
        {
          "output_type": "display_data",
          "data": {
            "text/plain": [
              "<IPython.core.display.Javascript object>"
            ],
            "application/javascript": [
              "\n",
              "    async function download(id, filename, size) {\n",
              "      if (!google.colab.kernel.accessAllowed) {\n",
              "        return;\n",
              "      }\n",
              "      const div = document.createElement('div');\n",
              "      const label = document.createElement('label');\n",
              "      label.textContent = `Downloading \"${filename}\": `;\n",
              "      div.appendChild(label);\n",
              "      const progress = document.createElement('progress');\n",
              "      progress.max = size;\n",
              "      div.appendChild(progress);\n",
              "      document.body.appendChild(div);\n",
              "\n",
              "      const buffers = [];\n",
              "      let downloaded = 0;\n",
              "\n",
              "      const channel = await google.colab.kernel.comms.open(id);\n",
              "      // Send a message to notify the kernel that we're ready.\n",
              "      channel.send({})\n",
              "\n",
              "      for await (const message of channel.messages) {\n",
              "        // Send a message to notify the kernel that we're ready.\n",
              "        channel.send({})\n",
              "        if (message.buffers) {\n",
              "          for (const buffer of message.buffers) {\n",
              "            buffers.push(buffer);\n",
              "            downloaded += buffer.byteLength;\n",
              "            progress.value = downloaded;\n",
              "          }\n",
              "        }\n",
              "      }\n",
              "      const blob = new Blob(buffers, {type: 'application/binary'});\n",
              "      const a = document.createElement('a');\n",
              "      a.href = window.URL.createObjectURL(blob);\n",
              "      a.download = filename;\n",
              "      div.appendChild(a);\n",
              "      a.click();\n",
              "      div.remove();\n",
              "    }\n",
              "  "
            ]
          },
          "metadata": {}
        },
        {
          "output_type": "display_data",
          "data": {
            "text/plain": [
              "<IPython.core.display.Javascript object>"
            ],
            "application/javascript": [
              "download(\"download_13fb0625-7b2a-4050-babe-e6f827086771\", \"ADRO.JK_1d_data.csv\", 264068)"
            ]
          },
          "metadata": {}
        },
        {
          "output_type": "stream",
          "name": "stderr",
          "text": [
            "\r[*********************100%***********************]  1 of 1 completed\n"
          ]
        },
        {
          "output_type": "display_data",
          "data": {
            "text/plain": [
              "<IPython.core.display.Javascript object>"
            ],
            "application/javascript": [
              "\n",
              "    async function download(id, filename, size) {\n",
              "      if (!google.colab.kernel.accessAllowed) {\n",
              "        return;\n",
              "      }\n",
              "      const div = document.createElement('div');\n",
              "      const label = document.createElement('label');\n",
              "      label.textContent = `Downloading \"${filename}\": `;\n",
              "      div.appendChild(label);\n",
              "      const progress = document.createElement('progress');\n",
              "      progress.max = size;\n",
              "      div.appendChild(progress);\n",
              "      document.body.appendChild(div);\n",
              "\n",
              "      const buffers = [];\n",
              "      let downloaded = 0;\n",
              "\n",
              "      const channel = await google.colab.kernel.comms.open(id);\n",
              "      // Send a message to notify the kernel that we're ready.\n",
              "      channel.send({})\n",
              "\n",
              "      for await (const message of channel.messages) {\n",
              "        // Send a message to notify the kernel that we're ready.\n",
              "        channel.send({})\n",
              "        if (message.buffers) {\n",
              "          for (const buffer of message.buffers) {\n",
              "            buffers.push(buffer);\n",
              "            downloaded += buffer.byteLength;\n",
              "            progress.value = downloaded;\n",
              "          }\n",
              "        }\n",
              "      }\n",
              "      const blob = new Blob(buffers, {type: 'application/binary'});\n",
              "      const a = document.createElement('a');\n",
              "      a.href = window.URL.createObjectURL(blob);\n",
              "      a.download = filename;\n",
              "      div.appendChild(a);\n",
              "      a.click();\n",
              "      div.remove();\n",
              "    }\n",
              "  "
            ]
          },
          "metadata": {}
        },
        {
          "output_type": "display_data",
          "data": {
            "text/plain": [
              "<IPython.core.display.Javascript object>"
            ],
            "application/javascript": [
              "download(\"download_8552e669-7d6d-407e-90fe-6a5a5e732c2c\", \"DSSA.JK_1d_data.csv\", 185719)"
            ]
          },
          "metadata": {}
        },
        {
          "output_type": "stream",
          "name": "stderr",
          "text": [
            "\r[*********************100%***********************]  1 of 1 completed\n"
          ]
        },
        {
          "output_type": "display_data",
          "data": {
            "text/plain": [
              "<IPython.core.display.Javascript object>"
            ],
            "application/javascript": [
              "\n",
              "    async function download(id, filename, size) {\n",
              "      if (!google.colab.kernel.accessAllowed) {\n",
              "        return;\n",
              "      }\n",
              "      const div = document.createElement('div');\n",
              "      const label = document.createElement('label');\n",
              "      label.textContent = `Downloading \"${filename}\": `;\n",
              "      div.appendChild(label);\n",
              "      const progress = document.createElement('progress');\n",
              "      progress.max = size;\n",
              "      div.appendChild(progress);\n",
              "      document.body.appendChild(div);\n",
              "\n",
              "      const buffers = [];\n",
              "      let downloaded = 0;\n",
              "\n",
              "      const channel = await google.colab.kernel.comms.open(id);\n",
              "      // Send a message to notify the kernel that we're ready.\n",
              "      channel.send({})\n",
              "\n",
              "      for await (const message of channel.messages) {\n",
              "        // Send a message to notify the kernel that we're ready.\n",
              "        channel.send({})\n",
              "        if (message.buffers) {\n",
              "          for (const buffer of message.buffers) {\n",
              "            buffers.push(buffer);\n",
              "            downloaded += buffer.byteLength;\n",
              "            progress.value = downloaded;\n",
              "          }\n",
              "        }\n",
              "      }\n",
              "      const blob = new Blob(buffers, {type: 'application/binary'});\n",
              "      const a = document.createElement('a');\n",
              "      a.href = window.URL.createObjectURL(blob);\n",
              "      a.download = filename;\n",
              "      div.appendChild(a);\n",
              "      a.click();\n",
              "      div.remove();\n",
              "    }\n",
              "  "
            ]
          },
          "metadata": {}
        },
        {
          "output_type": "display_data",
          "data": {
            "text/plain": [
              "<IPython.core.display.Javascript object>"
            ],
            "application/javascript": [
              "download(\"download_8f8561ac-a9db-4440-aa95-b9e45e008c67\", \"CUAN.JK_1d_data.csv\", 23133)"
            ]
          },
          "metadata": {}
        },
        {
          "output_type": "stream",
          "name": "stderr",
          "text": [
            "\r[*********************100%***********************]  1 of 1 completed\n"
          ]
        },
        {
          "output_type": "display_data",
          "data": {
            "text/plain": [
              "<IPython.core.display.Javascript object>"
            ],
            "application/javascript": [
              "\n",
              "    async function download(id, filename, size) {\n",
              "      if (!google.colab.kernel.accessAllowed) {\n",
              "        return;\n",
              "      }\n",
              "      const div = document.createElement('div');\n",
              "      const label = document.createElement('label');\n",
              "      label.textContent = `Downloading \"${filename}\": `;\n",
              "      div.appendChild(label);\n",
              "      const progress = document.createElement('progress');\n",
              "      progress.max = size;\n",
              "      div.appendChild(progress);\n",
              "      document.body.appendChild(div);\n",
              "\n",
              "      const buffers = [];\n",
              "      let downloaded = 0;\n",
              "\n",
              "      const channel = await google.colab.kernel.comms.open(id);\n",
              "      // Send a message to notify the kernel that we're ready.\n",
              "      channel.send({})\n",
              "\n",
              "      for await (const message of channel.messages) {\n",
              "        // Send a message to notify the kernel that we're ready.\n",
              "        channel.send({})\n",
              "        if (message.buffers) {\n",
              "          for (const buffer of message.buffers) {\n",
              "            buffers.push(buffer);\n",
              "            downloaded += buffer.byteLength;\n",
              "            progress.value = downloaded;\n",
              "          }\n",
              "        }\n",
              "      }\n",
              "      const blob = new Blob(buffers, {type: 'application/binary'});\n",
              "      const a = document.createElement('a');\n",
              "      a.href = window.URL.createObjectURL(blob);\n",
              "      a.download = filename;\n",
              "      div.appendChild(a);\n",
              "      a.click();\n",
              "      div.remove();\n",
              "    }\n",
              "  "
            ]
          },
          "metadata": {}
        },
        {
          "output_type": "display_data",
          "data": {
            "text/plain": [
              "<IPython.core.display.Javascript object>"
            ],
            "application/javascript": [
              "download(\"download_62eeb6e9-cf9b-4317-920b-b6a805a643b5\", \"PTRO.JK_1d_data.csv\", 346077)"
            ]
          },
          "metadata": {}
        },
        {
          "output_type": "stream",
          "name": "stderr",
          "text": [
            "\r[*********************100%***********************]  1 of 1 completed\n"
          ]
        },
        {
          "output_type": "display_data",
          "data": {
            "text/plain": [
              "<IPython.core.display.Javascript object>"
            ],
            "application/javascript": [
              "\n",
              "    async function download(id, filename, size) {\n",
              "      if (!google.colab.kernel.accessAllowed) {\n",
              "        return;\n",
              "      }\n",
              "      const div = document.createElement('div');\n",
              "      const label = document.createElement('label');\n",
              "      label.textContent = `Downloading \"${filename}\": `;\n",
              "      div.appendChild(label);\n",
              "      const progress = document.createElement('progress');\n",
              "      progress.max = size;\n",
              "      div.appendChild(progress);\n",
              "      document.body.appendChild(div);\n",
              "\n",
              "      const buffers = [];\n",
              "      let downloaded = 0;\n",
              "\n",
              "      const channel = await google.colab.kernel.comms.open(id);\n",
              "      // Send a message to notify the kernel that we're ready.\n",
              "      channel.send({})\n",
              "\n",
              "      for await (const message of channel.messages) {\n",
              "        // Send a message to notify the kernel that we're ready.\n",
              "        channel.send({})\n",
              "        if (message.buffers) {\n",
              "          for (const buffer of message.buffers) {\n",
              "            buffers.push(buffer);\n",
              "            downloaded += buffer.byteLength;\n",
              "            progress.value = downloaded;\n",
              "          }\n",
              "        }\n",
              "      }\n",
              "      const blob = new Blob(buffers, {type: 'application/binary'});\n",
              "      const a = document.createElement('a');\n",
              "      a.href = window.URL.createObjectURL(blob);\n",
              "      a.download = filename;\n",
              "      div.appendChild(a);\n",
              "      a.click();\n",
              "      div.remove();\n",
              "    }\n",
              "  "
            ]
          },
          "metadata": {}
        },
        {
          "output_type": "display_data",
          "data": {
            "text/plain": [
              "<IPython.core.display.Javascript object>"
            ],
            "application/javascript": [
              "download(\"download_5992a334-dede-41f7-8313-8f1948054705\", \"ANTM.JK_1d_data.csv\", 406804)"
            ]
          },
          "metadata": {}
        }
      ]
    }
  ]
}